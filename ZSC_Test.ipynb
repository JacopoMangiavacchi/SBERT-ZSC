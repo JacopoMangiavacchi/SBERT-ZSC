{
  "nbformat": 4,
  "nbformat_minor": 0,
  "metadata": {
    "colab": {
      "name": "ZSC-Test-2.ipynb",
      "provenance": [],
      "collapsed_sections": [],
      "include_colab_link": true
    },
    "kernelspec": {
      "name": "python3",
      "display_name": "Python 3"
    },
    "language_info": {
      "name": "python"
    },
    "widgets": {
      "application/vnd.jupyter.widget-state+json": {
        "a283ab13d1cb48f8a94879c302d3a6a7": {
          "model_module": "@jupyter-widgets/controls",
          "model_name": "HBoxModel",
          "model_module_version": "1.5.0",
          "state": {
            "_view_name": "HBoxView",
            "_dom_classes": [],
            "_model_name": "HBoxModel",
            "_view_module": "@jupyter-widgets/controls",
            "_model_module_version": "1.5.0",
            "_view_count": null,
            "_view_module_version": "1.5.0",
            "box_style": "",
            "layout": "IPY_MODEL_89a25aa0a47a4da7b275d52e5333f917",
            "_model_module": "@jupyter-widgets/controls",
            "children": [
              "IPY_MODEL_97a2b1432be34db09dbf2e9cbf1bb0c9",
              "IPY_MODEL_d3fef0332ff1458084b15b58023aecaa",
              "IPY_MODEL_495207e5b01c4a7b949846bb48e030ee"
            ]
          }
        },
        "89a25aa0a47a4da7b275d52e5333f917": {
          "model_module": "@jupyter-widgets/base",
          "model_name": "LayoutModel",
          "model_module_version": "1.2.0",
          "state": {
            "_view_name": "LayoutView",
            "grid_template_rows": null,
            "right": null,
            "justify_content": null,
            "_view_module": "@jupyter-widgets/base",
            "overflow": null,
            "_model_module_version": "1.2.0",
            "_view_count": null,
            "flex_flow": null,
            "width": null,
            "min_width": null,
            "border": null,
            "align_items": null,
            "bottom": null,
            "_model_module": "@jupyter-widgets/base",
            "top": null,
            "grid_column": null,
            "overflow_y": null,
            "overflow_x": null,
            "grid_auto_flow": null,
            "grid_area": null,
            "grid_template_columns": null,
            "flex": null,
            "_model_name": "LayoutModel",
            "justify_items": null,
            "grid_row": null,
            "max_height": null,
            "align_content": null,
            "visibility": null,
            "align_self": null,
            "height": null,
            "min_height": null,
            "padding": null,
            "grid_auto_rows": null,
            "grid_gap": null,
            "max_width": null,
            "order": null,
            "_view_module_version": "1.2.0",
            "grid_template_areas": null,
            "object_position": null,
            "object_fit": null,
            "grid_auto_columns": null,
            "margin": null,
            "display": null,
            "left": null
          }
        },
        "97a2b1432be34db09dbf2e9cbf1bb0c9": {
          "model_module": "@jupyter-widgets/controls",
          "model_name": "HTMLModel",
          "model_module_version": "1.5.0",
          "state": {
            "_view_name": "HTMLView",
            "style": "IPY_MODEL_402ddeb2df274a2587c03a5cc0b98524",
            "_dom_classes": [],
            "description": "",
            "_model_name": "HTMLModel",
            "placeholder": "​",
            "_view_module": "@jupyter-widgets/controls",
            "_model_module_version": "1.5.0",
            "value": "Downloading: 100%",
            "_view_count": null,
            "_view_module_version": "1.5.0",
            "description_tooltip": null,
            "_model_module": "@jupyter-widgets/controls",
            "layout": "IPY_MODEL_10112754df5b465da1a6f4a3404ba3f0"
          }
        },
        "d3fef0332ff1458084b15b58023aecaa": {
          "model_module": "@jupyter-widgets/controls",
          "model_name": "FloatProgressModel",
          "model_module_version": "1.5.0",
          "state": {
            "_view_name": "ProgressView",
            "style": "IPY_MODEL_b95d78b83b3c461680ff767f709dd88c",
            "_dom_classes": [],
            "description": "",
            "_model_name": "FloatProgressModel",
            "bar_style": "success",
            "max": 639,
            "_view_module": "@jupyter-widgets/controls",
            "_model_module_version": "1.5.0",
            "value": 639,
            "_view_count": null,
            "_view_module_version": "1.5.0",
            "orientation": "horizontal",
            "min": 0,
            "description_tooltip": null,
            "_model_module": "@jupyter-widgets/controls",
            "layout": "IPY_MODEL_68826ee888984ef4af5655783ed9a32b"
          }
        },
        "495207e5b01c4a7b949846bb48e030ee": {
          "model_module": "@jupyter-widgets/controls",
          "model_name": "HTMLModel",
          "model_module_version": "1.5.0",
          "state": {
            "_view_name": "HTMLView",
            "style": "IPY_MODEL_8921e89b1e5f4b418ab44bbc60d37571",
            "_dom_classes": [],
            "description": "",
            "_model_name": "HTMLModel",
            "placeholder": "​",
            "_view_module": "@jupyter-widgets/controls",
            "_model_module_version": "1.5.0",
            "value": " 639/639 [00:00&lt;00:00, 12.8kB/s]",
            "_view_count": null,
            "_view_module_version": "1.5.0",
            "description_tooltip": null,
            "_model_module": "@jupyter-widgets/controls",
            "layout": "IPY_MODEL_1681a075bd294252bd89cdd886eda900"
          }
        },
        "402ddeb2df274a2587c03a5cc0b98524": {
          "model_module": "@jupyter-widgets/controls",
          "model_name": "DescriptionStyleModel",
          "model_module_version": "1.5.0",
          "state": {
            "_view_name": "StyleView",
            "_model_name": "DescriptionStyleModel",
            "description_width": "",
            "_view_module": "@jupyter-widgets/base",
            "_model_module_version": "1.5.0",
            "_view_count": null,
            "_view_module_version": "1.2.0",
            "_model_module": "@jupyter-widgets/controls"
          }
        },
        "10112754df5b465da1a6f4a3404ba3f0": {
          "model_module": "@jupyter-widgets/base",
          "model_name": "LayoutModel",
          "model_module_version": "1.2.0",
          "state": {
            "_view_name": "LayoutView",
            "grid_template_rows": null,
            "right": null,
            "justify_content": null,
            "_view_module": "@jupyter-widgets/base",
            "overflow": null,
            "_model_module_version": "1.2.0",
            "_view_count": null,
            "flex_flow": null,
            "width": null,
            "min_width": null,
            "border": null,
            "align_items": null,
            "bottom": null,
            "_model_module": "@jupyter-widgets/base",
            "top": null,
            "grid_column": null,
            "overflow_y": null,
            "overflow_x": null,
            "grid_auto_flow": null,
            "grid_area": null,
            "grid_template_columns": null,
            "flex": null,
            "_model_name": "LayoutModel",
            "justify_items": null,
            "grid_row": null,
            "max_height": null,
            "align_content": null,
            "visibility": null,
            "align_self": null,
            "height": null,
            "min_height": null,
            "padding": null,
            "grid_auto_rows": null,
            "grid_gap": null,
            "max_width": null,
            "order": null,
            "_view_module_version": "1.2.0",
            "grid_template_areas": null,
            "object_position": null,
            "object_fit": null,
            "grid_auto_columns": null,
            "margin": null,
            "display": null,
            "left": null
          }
        },
        "b95d78b83b3c461680ff767f709dd88c": {
          "model_module": "@jupyter-widgets/controls",
          "model_name": "ProgressStyleModel",
          "model_module_version": "1.5.0",
          "state": {
            "_view_name": "StyleView",
            "_model_name": "ProgressStyleModel",
            "description_width": "",
            "_view_module": "@jupyter-widgets/base",
            "_model_module_version": "1.5.0",
            "_view_count": null,
            "_view_module_version": "1.2.0",
            "bar_color": null,
            "_model_module": "@jupyter-widgets/controls"
          }
        },
        "68826ee888984ef4af5655783ed9a32b": {
          "model_module": "@jupyter-widgets/base",
          "model_name": "LayoutModel",
          "model_module_version": "1.2.0",
          "state": {
            "_view_name": "LayoutView",
            "grid_template_rows": null,
            "right": null,
            "justify_content": null,
            "_view_module": "@jupyter-widgets/base",
            "overflow": null,
            "_model_module_version": "1.2.0",
            "_view_count": null,
            "flex_flow": null,
            "width": null,
            "min_width": null,
            "border": null,
            "align_items": null,
            "bottom": null,
            "_model_module": "@jupyter-widgets/base",
            "top": null,
            "grid_column": null,
            "overflow_y": null,
            "overflow_x": null,
            "grid_auto_flow": null,
            "grid_area": null,
            "grid_template_columns": null,
            "flex": null,
            "_model_name": "LayoutModel",
            "justify_items": null,
            "grid_row": null,
            "max_height": null,
            "align_content": null,
            "visibility": null,
            "align_self": null,
            "height": null,
            "min_height": null,
            "padding": null,
            "grid_auto_rows": null,
            "grid_gap": null,
            "max_width": null,
            "order": null,
            "_view_module_version": "1.2.0",
            "grid_template_areas": null,
            "object_position": null,
            "object_fit": null,
            "grid_auto_columns": null,
            "margin": null,
            "display": null,
            "left": null
          }
        },
        "8921e89b1e5f4b418ab44bbc60d37571": {
          "model_module": "@jupyter-widgets/controls",
          "model_name": "DescriptionStyleModel",
          "model_module_version": "1.5.0",
          "state": {
            "_view_name": "StyleView",
            "_model_name": "DescriptionStyleModel",
            "description_width": "",
            "_view_module": "@jupyter-widgets/base",
            "_model_module_version": "1.5.0",
            "_view_count": null,
            "_view_module_version": "1.2.0",
            "_model_module": "@jupyter-widgets/controls"
          }
        },
        "1681a075bd294252bd89cdd886eda900": {
          "model_module": "@jupyter-widgets/base",
          "model_name": "LayoutModel",
          "model_module_version": "1.2.0",
          "state": {
            "_view_name": "LayoutView",
            "grid_template_rows": null,
            "right": null,
            "justify_content": null,
            "_view_module": "@jupyter-widgets/base",
            "overflow": null,
            "_model_module_version": "1.2.0",
            "_view_count": null,
            "flex_flow": null,
            "width": null,
            "min_width": null,
            "border": null,
            "align_items": null,
            "bottom": null,
            "_model_module": "@jupyter-widgets/base",
            "top": null,
            "grid_column": null,
            "overflow_y": null,
            "overflow_x": null,
            "grid_auto_flow": null,
            "grid_area": null,
            "grid_template_columns": null,
            "flex": null,
            "_model_name": "LayoutModel",
            "justify_items": null,
            "grid_row": null,
            "max_height": null,
            "align_content": null,
            "visibility": null,
            "align_self": null,
            "height": null,
            "min_height": null,
            "padding": null,
            "grid_auto_rows": null,
            "grid_gap": null,
            "max_width": null,
            "order": null,
            "_view_module_version": "1.2.0",
            "grid_template_areas": null,
            "object_position": null,
            "object_fit": null,
            "grid_auto_columns": null,
            "margin": null,
            "display": null,
            "left": null
          }
        },
        "c7bef43445514f7491729fe7cc00b462": {
          "model_module": "@jupyter-widgets/controls",
          "model_name": "HBoxModel",
          "model_module_version": "1.5.0",
          "state": {
            "_view_name": "HBoxView",
            "_dom_classes": [],
            "_model_name": "HBoxModel",
            "_view_module": "@jupyter-widgets/controls",
            "_model_module_version": "1.5.0",
            "_view_count": null,
            "_view_module_version": "1.5.0",
            "box_style": "",
            "layout": "IPY_MODEL_d4f6a618633f476bb2feb1fa95a71cc1",
            "_model_module": "@jupyter-widgets/controls",
            "children": [
              "IPY_MODEL_8bbd01fa0ebc49ae857cd6ea4d181e23",
              "IPY_MODEL_f60ff52e53534e1db074afd1ebaada28",
              "IPY_MODEL_7ecde53847e34a639ba80aea79257f4a"
            ]
          }
        },
        "d4f6a618633f476bb2feb1fa95a71cc1": {
          "model_module": "@jupyter-widgets/base",
          "model_name": "LayoutModel",
          "model_module_version": "1.2.0",
          "state": {
            "_view_name": "LayoutView",
            "grid_template_rows": null,
            "right": null,
            "justify_content": null,
            "_view_module": "@jupyter-widgets/base",
            "overflow": null,
            "_model_module_version": "1.2.0",
            "_view_count": null,
            "flex_flow": null,
            "width": null,
            "min_width": null,
            "border": null,
            "align_items": null,
            "bottom": null,
            "_model_module": "@jupyter-widgets/base",
            "top": null,
            "grid_column": null,
            "overflow_y": null,
            "overflow_x": null,
            "grid_auto_flow": null,
            "grid_area": null,
            "grid_template_columns": null,
            "flex": null,
            "_model_name": "LayoutModel",
            "justify_items": null,
            "grid_row": null,
            "max_height": null,
            "align_content": null,
            "visibility": null,
            "align_self": null,
            "height": null,
            "min_height": null,
            "padding": null,
            "grid_auto_rows": null,
            "grid_gap": null,
            "max_width": null,
            "order": null,
            "_view_module_version": "1.2.0",
            "grid_template_areas": null,
            "object_position": null,
            "object_fit": null,
            "grid_auto_columns": null,
            "margin": null,
            "display": null,
            "left": null
          }
        },
        "8bbd01fa0ebc49ae857cd6ea4d181e23": {
          "model_module": "@jupyter-widgets/controls",
          "model_name": "HTMLModel",
          "model_module_version": "1.5.0",
          "state": {
            "_view_name": "HTMLView",
            "style": "IPY_MODEL_c69d872b14aa47be8f6fff1a1b3f625d",
            "_dom_classes": [],
            "description": "",
            "_model_name": "HTMLModel",
            "placeholder": "​",
            "_view_module": "@jupyter-widgets/controls",
            "_model_module_version": "1.5.0",
            "value": "Downloading: 100%",
            "_view_count": null,
            "_view_module_version": "1.5.0",
            "description_tooltip": null,
            "_model_module": "@jupyter-widgets/controls",
            "layout": "IPY_MODEL_77831008981d447683864aabb668ba1c"
          }
        },
        "f60ff52e53534e1db074afd1ebaada28": {
          "model_module": "@jupyter-widgets/controls",
          "model_name": "FloatProgressModel",
          "model_module_version": "1.5.0",
          "state": {
            "_view_name": "ProgressView",
            "style": "IPY_MODEL_80cea1167dc849c78c7f65bdce318453",
            "_dom_classes": [],
            "description": "",
            "_model_name": "FloatProgressModel",
            "bar_style": "success",
            "max": 267865005,
            "_view_module": "@jupyter-widgets/controls",
            "_model_module_version": "1.5.0",
            "value": 267865005,
            "_view_count": null,
            "_view_module_version": "1.5.0",
            "orientation": "horizontal",
            "min": 0,
            "description_tooltip": null,
            "_model_module": "@jupyter-widgets/controls",
            "layout": "IPY_MODEL_96877326f8fe4cf2bc482f9be2bf70d2"
          }
        },
        "7ecde53847e34a639ba80aea79257f4a": {
          "model_module": "@jupyter-widgets/controls",
          "model_name": "HTMLModel",
          "model_module_version": "1.5.0",
          "state": {
            "_view_name": "HTMLView",
            "style": "IPY_MODEL_e0ae1ff490a04d148472e6d600d25793",
            "_dom_classes": [],
            "description": "",
            "_model_name": "HTMLModel",
            "placeholder": "​",
            "_view_module": "@jupyter-widgets/controls",
            "_model_module_version": "1.5.0",
            "value": " 268M/268M [00:06&lt;00:00, 43.7MB/s]",
            "_view_count": null,
            "_view_module_version": "1.5.0",
            "description_tooltip": null,
            "_model_module": "@jupyter-widgets/controls",
            "layout": "IPY_MODEL_133a656a01224da2a575cc94de97fc30"
          }
        },
        "c69d872b14aa47be8f6fff1a1b3f625d": {
          "model_module": "@jupyter-widgets/controls",
          "model_name": "DescriptionStyleModel",
          "model_module_version": "1.5.0",
          "state": {
            "_view_name": "StyleView",
            "_model_name": "DescriptionStyleModel",
            "description_width": "",
            "_view_module": "@jupyter-widgets/base",
            "_model_module_version": "1.5.0",
            "_view_count": null,
            "_view_module_version": "1.2.0",
            "_model_module": "@jupyter-widgets/controls"
          }
        },
        "77831008981d447683864aabb668ba1c": {
          "model_module": "@jupyter-widgets/base",
          "model_name": "LayoutModel",
          "model_module_version": "1.2.0",
          "state": {
            "_view_name": "LayoutView",
            "grid_template_rows": null,
            "right": null,
            "justify_content": null,
            "_view_module": "@jupyter-widgets/base",
            "overflow": null,
            "_model_module_version": "1.2.0",
            "_view_count": null,
            "flex_flow": null,
            "width": null,
            "min_width": null,
            "border": null,
            "align_items": null,
            "bottom": null,
            "_model_module": "@jupyter-widgets/base",
            "top": null,
            "grid_column": null,
            "overflow_y": null,
            "overflow_x": null,
            "grid_auto_flow": null,
            "grid_area": null,
            "grid_template_columns": null,
            "flex": null,
            "_model_name": "LayoutModel",
            "justify_items": null,
            "grid_row": null,
            "max_height": null,
            "align_content": null,
            "visibility": null,
            "align_self": null,
            "height": null,
            "min_height": null,
            "padding": null,
            "grid_auto_rows": null,
            "grid_gap": null,
            "max_width": null,
            "order": null,
            "_view_module_version": "1.2.0",
            "grid_template_areas": null,
            "object_position": null,
            "object_fit": null,
            "grid_auto_columns": null,
            "margin": null,
            "display": null,
            "left": null
          }
        },
        "80cea1167dc849c78c7f65bdce318453": {
          "model_module": "@jupyter-widgets/controls",
          "model_name": "ProgressStyleModel",
          "model_module_version": "1.5.0",
          "state": {
            "_view_name": "StyleView",
            "_model_name": "ProgressStyleModel",
            "description_width": "",
            "_view_module": "@jupyter-widgets/base",
            "_model_module_version": "1.5.0",
            "_view_count": null,
            "_view_module_version": "1.2.0",
            "bar_color": null,
            "_model_module": "@jupyter-widgets/controls"
          }
        },
        "96877326f8fe4cf2bc482f9be2bf70d2": {
          "model_module": "@jupyter-widgets/base",
          "model_name": "LayoutModel",
          "model_module_version": "1.2.0",
          "state": {
            "_view_name": "LayoutView",
            "grid_template_rows": null,
            "right": null,
            "justify_content": null,
            "_view_module": "@jupyter-widgets/base",
            "overflow": null,
            "_model_module_version": "1.2.0",
            "_view_count": null,
            "flex_flow": null,
            "width": null,
            "min_width": null,
            "border": null,
            "align_items": null,
            "bottom": null,
            "_model_module": "@jupyter-widgets/base",
            "top": null,
            "grid_column": null,
            "overflow_y": null,
            "overflow_x": null,
            "grid_auto_flow": null,
            "grid_area": null,
            "grid_template_columns": null,
            "flex": null,
            "_model_name": "LayoutModel",
            "justify_items": null,
            "grid_row": null,
            "max_height": null,
            "align_content": null,
            "visibility": null,
            "align_self": null,
            "height": null,
            "min_height": null,
            "padding": null,
            "grid_auto_rows": null,
            "grid_gap": null,
            "max_width": null,
            "order": null,
            "_view_module_version": "1.2.0",
            "grid_template_areas": null,
            "object_position": null,
            "object_fit": null,
            "grid_auto_columns": null,
            "margin": null,
            "display": null,
            "left": null
          }
        },
        "e0ae1ff490a04d148472e6d600d25793": {
          "model_module": "@jupyter-widgets/controls",
          "model_name": "DescriptionStyleModel",
          "model_module_version": "1.5.0",
          "state": {
            "_view_name": "StyleView",
            "_model_name": "DescriptionStyleModel",
            "description_width": "",
            "_view_module": "@jupyter-widgets/base",
            "_model_module_version": "1.5.0",
            "_view_count": null,
            "_view_module_version": "1.2.0",
            "_model_module": "@jupyter-widgets/controls"
          }
        },
        "133a656a01224da2a575cc94de97fc30": {
          "model_module": "@jupyter-widgets/base",
          "model_name": "LayoutModel",
          "model_module_version": "1.2.0",
          "state": {
            "_view_name": "LayoutView",
            "grid_template_rows": null,
            "right": null,
            "justify_content": null,
            "_view_module": "@jupyter-widgets/base",
            "overflow": null,
            "_model_module_version": "1.2.0",
            "_view_count": null,
            "flex_flow": null,
            "width": null,
            "min_width": null,
            "border": null,
            "align_items": null,
            "bottom": null,
            "_model_module": "@jupyter-widgets/base",
            "top": null,
            "grid_column": null,
            "overflow_y": null,
            "overflow_x": null,
            "grid_auto_flow": null,
            "grid_area": null,
            "grid_template_columns": null,
            "flex": null,
            "_model_name": "LayoutModel",
            "justify_items": null,
            "grid_row": null,
            "max_height": null,
            "align_content": null,
            "visibility": null,
            "align_self": null,
            "height": null,
            "min_height": null,
            "padding": null,
            "grid_auto_rows": null,
            "grid_gap": null,
            "max_width": null,
            "order": null,
            "_view_module_version": "1.2.0",
            "grid_template_areas": null,
            "object_position": null,
            "object_fit": null,
            "grid_auto_columns": null,
            "margin": null,
            "display": null,
            "left": null
          }
        },
        "80b3af5b831a489c8fdeec0392aa31cf": {
          "model_module": "@jupyter-widgets/controls",
          "model_name": "HBoxModel",
          "model_module_version": "1.5.0",
          "state": {
            "_view_name": "HBoxView",
            "_dom_classes": [],
            "_model_name": "HBoxModel",
            "_view_module": "@jupyter-widgets/controls",
            "_model_module_version": "1.5.0",
            "_view_count": null,
            "_view_module_version": "1.5.0",
            "box_style": "",
            "layout": "IPY_MODEL_8036044ab6dd49898542d519a9d4d4bd",
            "_model_module": "@jupyter-widgets/controls",
            "children": [
              "IPY_MODEL_5835e723d86544cc933fb983d826f6ba",
              "IPY_MODEL_6d5c0ea645ac47f98af30e7dde372685",
              "IPY_MODEL_82f3d2d89b484aa78fc0bb3c4e171266"
            ]
          }
        },
        "8036044ab6dd49898542d519a9d4d4bd": {
          "model_module": "@jupyter-widgets/base",
          "model_name": "LayoutModel",
          "model_module_version": "1.2.0",
          "state": {
            "_view_name": "LayoutView",
            "grid_template_rows": null,
            "right": null,
            "justify_content": null,
            "_view_module": "@jupyter-widgets/base",
            "overflow": null,
            "_model_module_version": "1.2.0",
            "_view_count": null,
            "flex_flow": null,
            "width": null,
            "min_width": null,
            "border": null,
            "align_items": null,
            "bottom": null,
            "_model_module": "@jupyter-widgets/base",
            "top": null,
            "grid_column": null,
            "overflow_y": null,
            "overflow_x": null,
            "grid_auto_flow": null,
            "grid_area": null,
            "grid_template_columns": null,
            "flex": null,
            "_model_name": "LayoutModel",
            "justify_items": null,
            "grid_row": null,
            "max_height": null,
            "align_content": null,
            "visibility": null,
            "align_self": null,
            "height": null,
            "min_height": null,
            "padding": null,
            "grid_auto_rows": null,
            "grid_gap": null,
            "max_width": null,
            "order": null,
            "_view_module_version": "1.2.0",
            "grid_template_areas": null,
            "object_position": null,
            "object_fit": null,
            "grid_auto_columns": null,
            "margin": null,
            "display": null,
            "left": null
          }
        },
        "5835e723d86544cc933fb983d826f6ba": {
          "model_module": "@jupyter-widgets/controls",
          "model_name": "HTMLModel",
          "model_module_version": "1.5.0",
          "state": {
            "_view_name": "HTMLView",
            "style": "IPY_MODEL_2b4030e37be0417d892cc9891412a5c7",
            "_dom_classes": [],
            "description": "",
            "_model_name": "HTMLModel",
            "placeholder": "​",
            "_view_module": "@jupyter-widgets/controls",
            "_model_module_version": "1.5.0",
            "value": "Downloading: 100%",
            "_view_count": null,
            "_view_module_version": "1.5.0",
            "description_tooltip": null,
            "_model_module": "@jupyter-widgets/controls",
            "layout": "IPY_MODEL_3fad101b13fc49beae64aca9f9b6b405"
          }
        },
        "6d5c0ea645ac47f98af30e7dde372685": {
          "model_module": "@jupyter-widgets/controls",
          "model_name": "FloatProgressModel",
          "model_module_version": "1.5.0",
          "state": {
            "_view_name": "ProgressView",
            "style": "IPY_MODEL_661dffa44cf24dc9819365a875b25ca7",
            "_dom_classes": [],
            "description": "",
            "_model_name": "FloatProgressModel",
            "bar_style": "success",
            "max": 48,
            "_view_module": "@jupyter-widgets/controls",
            "_model_module_version": "1.5.0",
            "value": 48,
            "_view_count": null,
            "_view_module_version": "1.5.0",
            "orientation": "horizontal",
            "min": 0,
            "description_tooltip": null,
            "_model_module": "@jupyter-widgets/controls",
            "layout": "IPY_MODEL_c58728a6515f4baaaef2640dbb9165b4"
          }
        },
        "82f3d2d89b484aa78fc0bb3c4e171266": {
          "model_module": "@jupyter-widgets/controls",
          "model_name": "HTMLModel",
          "model_module_version": "1.5.0",
          "state": {
            "_view_name": "HTMLView",
            "style": "IPY_MODEL_3b3f703918ce45b3a696e9e1e5d32d64",
            "_dom_classes": [],
            "description": "",
            "_model_name": "HTMLModel",
            "placeholder": "​",
            "_view_module": "@jupyter-widgets/controls",
            "_model_module_version": "1.5.0",
            "value": " 48.0/48.0 [00:00&lt;00:00, 1.53kB/s]",
            "_view_count": null,
            "_view_module_version": "1.5.0",
            "description_tooltip": null,
            "_model_module": "@jupyter-widgets/controls",
            "layout": "IPY_MODEL_ea8cf3bec83a4252bb0669a18ecc5740"
          }
        },
        "2b4030e37be0417d892cc9891412a5c7": {
          "model_module": "@jupyter-widgets/controls",
          "model_name": "DescriptionStyleModel",
          "model_module_version": "1.5.0",
          "state": {
            "_view_name": "StyleView",
            "_model_name": "DescriptionStyleModel",
            "description_width": "",
            "_view_module": "@jupyter-widgets/base",
            "_model_module_version": "1.5.0",
            "_view_count": null,
            "_view_module_version": "1.2.0",
            "_model_module": "@jupyter-widgets/controls"
          }
        },
        "3fad101b13fc49beae64aca9f9b6b405": {
          "model_module": "@jupyter-widgets/base",
          "model_name": "LayoutModel",
          "model_module_version": "1.2.0",
          "state": {
            "_view_name": "LayoutView",
            "grid_template_rows": null,
            "right": null,
            "justify_content": null,
            "_view_module": "@jupyter-widgets/base",
            "overflow": null,
            "_model_module_version": "1.2.0",
            "_view_count": null,
            "flex_flow": null,
            "width": null,
            "min_width": null,
            "border": null,
            "align_items": null,
            "bottom": null,
            "_model_module": "@jupyter-widgets/base",
            "top": null,
            "grid_column": null,
            "overflow_y": null,
            "overflow_x": null,
            "grid_auto_flow": null,
            "grid_area": null,
            "grid_template_columns": null,
            "flex": null,
            "_model_name": "LayoutModel",
            "justify_items": null,
            "grid_row": null,
            "max_height": null,
            "align_content": null,
            "visibility": null,
            "align_self": null,
            "height": null,
            "min_height": null,
            "padding": null,
            "grid_auto_rows": null,
            "grid_gap": null,
            "max_width": null,
            "order": null,
            "_view_module_version": "1.2.0",
            "grid_template_areas": null,
            "object_position": null,
            "object_fit": null,
            "grid_auto_columns": null,
            "margin": null,
            "display": null,
            "left": null
          }
        },
        "661dffa44cf24dc9819365a875b25ca7": {
          "model_module": "@jupyter-widgets/controls",
          "model_name": "ProgressStyleModel",
          "model_module_version": "1.5.0",
          "state": {
            "_view_name": "StyleView",
            "_model_name": "ProgressStyleModel",
            "description_width": "",
            "_view_module": "@jupyter-widgets/base",
            "_model_module_version": "1.5.0",
            "_view_count": null,
            "_view_module_version": "1.2.0",
            "bar_color": null,
            "_model_module": "@jupyter-widgets/controls"
          }
        },
        "c58728a6515f4baaaef2640dbb9165b4": {
          "model_module": "@jupyter-widgets/base",
          "model_name": "LayoutModel",
          "model_module_version": "1.2.0",
          "state": {
            "_view_name": "LayoutView",
            "grid_template_rows": null,
            "right": null,
            "justify_content": null,
            "_view_module": "@jupyter-widgets/base",
            "overflow": null,
            "_model_module_version": "1.2.0",
            "_view_count": null,
            "flex_flow": null,
            "width": null,
            "min_width": null,
            "border": null,
            "align_items": null,
            "bottom": null,
            "_model_module": "@jupyter-widgets/base",
            "top": null,
            "grid_column": null,
            "overflow_y": null,
            "overflow_x": null,
            "grid_auto_flow": null,
            "grid_area": null,
            "grid_template_columns": null,
            "flex": null,
            "_model_name": "LayoutModel",
            "justify_items": null,
            "grid_row": null,
            "max_height": null,
            "align_content": null,
            "visibility": null,
            "align_self": null,
            "height": null,
            "min_height": null,
            "padding": null,
            "grid_auto_rows": null,
            "grid_gap": null,
            "max_width": null,
            "order": null,
            "_view_module_version": "1.2.0",
            "grid_template_areas": null,
            "object_position": null,
            "object_fit": null,
            "grid_auto_columns": null,
            "margin": null,
            "display": null,
            "left": null
          }
        },
        "3b3f703918ce45b3a696e9e1e5d32d64": {
          "model_module": "@jupyter-widgets/controls",
          "model_name": "DescriptionStyleModel",
          "model_module_version": "1.5.0",
          "state": {
            "_view_name": "StyleView",
            "_model_name": "DescriptionStyleModel",
            "description_width": "",
            "_view_module": "@jupyter-widgets/base",
            "_model_module_version": "1.5.0",
            "_view_count": null,
            "_view_module_version": "1.2.0",
            "_model_module": "@jupyter-widgets/controls"
          }
        },
        "ea8cf3bec83a4252bb0669a18ecc5740": {
          "model_module": "@jupyter-widgets/base",
          "model_name": "LayoutModel",
          "model_module_version": "1.2.0",
          "state": {
            "_view_name": "LayoutView",
            "grid_template_rows": null,
            "right": null,
            "justify_content": null,
            "_view_module": "@jupyter-widgets/base",
            "overflow": null,
            "_model_module_version": "1.2.0",
            "_view_count": null,
            "flex_flow": null,
            "width": null,
            "min_width": null,
            "border": null,
            "align_items": null,
            "bottom": null,
            "_model_module": "@jupyter-widgets/base",
            "top": null,
            "grid_column": null,
            "overflow_y": null,
            "overflow_x": null,
            "grid_auto_flow": null,
            "grid_area": null,
            "grid_template_columns": null,
            "flex": null,
            "_model_name": "LayoutModel",
            "justify_items": null,
            "grid_row": null,
            "max_height": null,
            "align_content": null,
            "visibility": null,
            "align_self": null,
            "height": null,
            "min_height": null,
            "padding": null,
            "grid_auto_rows": null,
            "grid_gap": null,
            "max_width": null,
            "order": null,
            "_view_module_version": "1.2.0",
            "grid_template_areas": null,
            "object_position": null,
            "object_fit": null,
            "grid_auto_columns": null,
            "margin": null,
            "display": null,
            "left": null
          }
        },
        "89b132d9424d451b82bdc71ef0fed588": {
          "model_module": "@jupyter-widgets/controls",
          "model_name": "HBoxModel",
          "model_module_version": "1.5.0",
          "state": {
            "_view_name": "HBoxView",
            "_dom_classes": [],
            "_model_name": "HBoxModel",
            "_view_module": "@jupyter-widgets/controls",
            "_model_module_version": "1.5.0",
            "_view_count": null,
            "_view_module_version": "1.5.0",
            "box_style": "",
            "layout": "IPY_MODEL_808e95202d834c76b7eaef6b86d15246",
            "_model_module": "@jupyter-widgets/controls",
            "children": [
              "IPY_MODEL_c5f692e0491e4381b0e185ef7759f228",
              "IPY_MODEL_f250c12c75a04cd2a33ae076f3d2a1ce",
              "IPY_MODEL_c899b836dd6c4ca6bfc55421b0932715"
            ]
          }
        },
        "808e95202d834c76b7eaef6b86d15246": {
          "model_module": "@jupyter-widgets/base",
          "model_name": "LayoutModel",
          "model_module_version": "1.2.0",
          "state": {
            "_view_name": "LayoutView",
            "grid_template_rows": null,
            "right": null,
            "justify_content": null,
            "_view_module": "@jupyter-widgets/base",
            "overflow": null,
            "_model_module_version": "1.2.0",
            "_view_count": null,
            "flex_flow": null,
            "width": null,
            "min_width": null,
            "border": null,
            "align_items": null,
            "bottom": null,
            "_model_module": "@jupyter-widgets/base",
            "top": null,
            "grid_column": null,
            "overflow_y": null,
            "overflow_x": null,
            "grid_auto_flow": null,
            "grid_area": null,
            "grid_template_columns": null,
            "flex": null,
            "_model_name": "LayoutModel",
            "justify_items": null,
            "grid_row": null,
            "max_height": null,
            "align_content": null,
            "visibility": null,
            "align_self": null,
            "height": null,
            "min_height": null,
            "padding": null,
            "grid_auto_rows": null,
            "grid_gap": null,
            "max_width": null,
            "order": null,
            "_view_module_version": "1.2.0",
            "grid_template_areas": null,
            "object_position": null,
            "object_fit": null,
            "grid_auto_columns": null,
            "margin": null,
            "display": null,
            "left": null
          }
        },
        "c5f692e0491e4381b0e185ef7759f228": {
          "model_module": "@jupyter-widgets/controls",
          "model_name": "HTMLModel",
          "model_module_version": "1.5.0",
          "state": {
            "_view_name": "HTMLView",
            "style": "IPY_MODEL_8d5ae965001e48c6a506c5aedeee742d",
            "_dom_classes": [],
            "description": "",
            "_model_name": "HTMLModel",
            "placeholder": "​",
            "_view_module": "@jupyter-widgets/controls",
            "_model_module_version": "1.5.0",
            "value": "Downloading: 100%",
            "_view_count": null,
            "_view_module_version": "1.5.0",
            "description_tooltip": null,
            "_model_module": "@jupyter-widgets/controls",
            "layout": "IPY_MODEL_a2ef0cbec6b4435ea36770e9d8709a48"
          }
        },
        "f250c12c75a04cd2a33ae076f3d2a1ce": {
          "model_module": "@jupyter-widgets/controls",
          "model_name": "FloatProgressModel",
          "model_module_version": "1.5.0",
          "state": {
            "_view_name": "ProgressView",
            "style": "IPY_MODEL_80db66489e9b4f6e977b73e5fa23300c",
            "_dom_classes": [],
            "description": "",
            "_model_name": "FloatProgressModel",
            "bar_style": "success",
            "max": 231508,
            "_view_module": "@jupyter-widgets/controls",
            "_model_module_version": "1.5.0",
            "value": 231508,
            "_view_count": null,
            "_view_module_version": "1.5.0",
            "orientation": "horizontal",
            "min": 0,
            "description_tooltip": null,
            "_model_module": "@jupyter-widgets/controls",
            "layout": "IPY_MODEL_b6dca672114b425fb8df7970188fd3e8"
          }
        },
        "c899b836dd6c4ca6bfc55421b0932715": {
          "model_module": "@jupyter-widgets/controls",
          "model_name": "HTMLModel",
          "model_module_version": "1.5.0",
          "state": {
            "_view_name": "HTMLView",
            "style": "IPY_MODEL_26708355b5af4c41a5f683dc8d6d2ac4",
            "_dom_classes": [],
            "description": "",
            "_model_name": "HTMLModel",
            "placeholder": "​",
            "_view_module": "@jupyter-widgets/controls",
            "_model_module_version": "1.5.0",
            "value": " 232k/232k [00:00&lt;00:00, 644kB/s]",
            "_view_count": null,
            "_view_module_version": "1.5.0",
            "description_tooltip": null,
            "_model_module": "@jupyter-widgets/controls",
            "layout": "IPY_MODEL_6784b6a7a6ec47dab68f85e7e69741dd"
          }
        },
        "8d5ae965001e48c6a506c5aedeee742d": {
          "model_module": "@jupyter-widgets/controls",
          "model_name": "DescriptionStyleModel",
          "model_module_version": "1.5.0",
          "state": {
            "_view_name": "StyleView",
            "_model_name": "DescriptionStyleModel",
            "description_width": "",
            "_view_module": "@jupyter-widgets/base",
            "_model_module_version": "1.5.0",
            "_view_count": null,
            "_view_module_version": "1.2.0",
            "_model_module": "@jupyter-widgets/controls"
          }
        },
        "a2ef0cbec6b4435ea36770e9d8709a48": {
          "model_module": "@jupyter-widgets/base",
          "model_name": "LayoutModel",
          "model_module_version": "1.2.0",
          "state": {
            "_view_name": "LayoutView",
            "grid_template_rows": null,
            "right": null,
            "justify_content": null,
            "_view_module": "@jupyter-widgets/base",
            "overflow": null,
            "_model_module_version": "1.2.0",
            "_view_count": null,
            "flex_flow": null,
            "width": null,
            "min_width": null,
            "border": null,
            "align_items": null,
            "bottom": null,
            "_model_module": "@jupyter-widgets/base",
            "top": null,
            "grid_column": null,
            "overflow_y": null,
            "overflow_x": null,
            "grid_auto_flow": null,
            "grid_area": null,
            "grid_template_columns": null,
            "flex": null,
            "_model_name": "LayoutModel",
            "justify_items": null,
            "grid_row": null,
            "max_height": null,
            "align_content": null,
            "visibility": null,
            "align_self": null,
            "height": null,
            "min_height": null,
            "padding": null,
            "grid_auto_rows": null,
            "grid_gap": null,
            "max_width": null,
            "order": null,
            "_view_module_version": "1.2.0",
            "grid_template_areas": null,
            "object_position": null,
            "object_fit": null,
            "grid_auto_columns": null,
            "margin": null,
            "display": null,
            "left": null
          }
        },
        "80db66489e9b4f6e977b73e5fa23300c": {
          "model_module": "@jupyter-widgets/controls",
          "model_name": "ProgressStyleModel",
          "model_module_version": "1.5.0",
          "state": {
            "_view_name": "StyleView",
            "_model_name": "ProgressStyleModel",
            "description_width": "",
            "_view_module": "@jupyter-widgets/base",
            "_model_module_version": "1.5.0",
            "_view_count": null,
            "_view_module_version": "1.2.0",
            "bar_color": null,
            "_model_module": "@jupyter-widgets/controls"
          }
        },
        "b6dca672114b425fb8df7970188fd3e8": {
          "model_module": "@jupyter-widgets/base",
          "model_name": "LayoutModel",
          "model_module_version": "1.2.0",
          "state": {
            "_view_name": "LayoutView",
            "grid_template_rows": null,
            "right": null,
            "justify_content": null,
            "_view_module": "@jupyter-widgets/base",
            "overflow": null,
            "_model_module_version": "1.2.0",
            "_view_count": null,
            "flex_flow": null,
            "width": null,
            "min_width": null,
            "border": null,
            "align_items": null,
            "bottom": null,
            "_model_module": "@jupyter-widgets/base",
            "top": null,
            "grid_column": null,
            "overflow_y": null,
            "overflow_x": null,
            "grid_auto_flow": null,
            "grid_area": null,
            "grid_template_columns": null,
            "flex": null,
            "_model_name": "LayoutModel",
            "justify_items": null,
            "grid_row": null,
            "max_height": null,
            "align_content": null,
            "visibility": null,
            "align_self": null,
            "height": null,
            "min_height": null,
            "padding": null,
            "grid_auto_rows": null,
            "grid_gap": null,
            "max_width": null,
            "order": null,
            "_view_module_version": "1.2.0",
            "grid_template_areas": null,
            "object_position": null,
            "object_fit": null,
            "grid_auto_columns": null,
            "margin": null,
            "display": null,
            "left": null
          }
        },
        "26708355b5af4c41a5f683dc8d6d2ac4": {
          "model_module": "@jupyter-widgets/controls",
          "model_name": "DescriptionStyleModel",
          "model_module_version": "1.5.0",
          "state": {
            "_view_name": "StyleView",
            "_model_name": "DescriptionStyleModel",
            "description_width": "",
            "_view_module": "@jupyter-widgets/base",
            "_model_module_version": "1.5.0",
            "_view_count": null,
            "_view_module_version": "1.2.0",
            "_model_module": "@jupyter-widgets/controls"
          }
        },
        "6784b6a7a6ec47dab68f85e7e69741dd": {
          "model_module": "@jupyter-widgets/base",
          "model_name": "LayoutModel",
          "model_module_version": "1.2.0",
          "state": {
            "_view_name": "LayoutView",
            "grid_template_rows": null,
            "right": null,
            "justify_content": null,
            "_view_module": "@jupyter-widgets/base",
            "overflow": null,
            "_model_module_version": "1.2.0",
            "_view_count": null,
            "flex_flow": null,
            "width": null,
            "min_width": null,
            "border": null,
            "align_items": null,
            "bottom": null,
            "_model_module": "@jupyter-widgets/base",
            "top": null,
            "grid_column": null,
            "overflow_y": null,
            "overflow_x": null,
            "grid_auto_flow": null,
            "grid_area": null,
            "grid_template_columns": null,
            "flex": null,
            "_model_name": "LayoutModel",
            "justify_items": null,
            "grid_row": null,
            "max_height": null,
            "align_content": null,
            "visibility": null,
            "align_self": null,
            "height": null,
            "min_height": null,
            "padding": null,
            "grid_auto_rows": null,
            "grid_gap": null,
            "max_width": null,
            "order": null,
            "_view_module_version": "1.2.0",
            "grid_template_areas": null,
            "object_position": null,
            "object_fit": null,
            "grid_auto_columns": null,
            "margin": null,
            "display": null,
            "left": null
          }
        },
        "66a593f585bd44508695c01c8b5d7127": {
          "model_module": "@jupyter-widgets/controls",
          "model_name": "HBoxModel",
          "model_module_version": "1.5.0",
          "state": {
            "_view_name": "HBoxView",
            "_dom_classes": [],
            "_model_name": "HBoxModel",
            "_view_module": "@jupyter-widgets/controls",
            "_model_module_version": "1.5.0",
            "_view_count": null,
            "_view_module_version": "1.5.0",
            "box_style": "",
            "layout": "IPY_MODEL_15bea36d48fa49f3bda94af01e121c1e",
            "_model_module": "@jupyter-widgets/controls",
            "children": [
              "IPY_MODEL_444af757bad44406b3ed3e829e620855",
              "IPY_MODEL_7be181fbc675483aa913b00ffdd836e2",
              "IPY_MODEL_344413075671437ebbab09c43cba7eed"
            ]
          }
        },
        "15bea36d48fa49f3bda94af01e121c1e": {
          "model_module": "@jupyter-widgets/base",
          "model_name": "LayoutModel",
          "model_module_version": "1.2.0",
          "state": {
            "_view_name": "LayoutView",
            "grid_template_rows": null,
            "right": null,
            "justify_content": null,
            "_view_module": "@jupyter-widgets/base",
            "overflow": null,
            "_model_module_version": "1.2.0",
            "_view_count": null,
            "flex_flow": null,
            "width": null,
            "min_width": null,
            "border": null,
            "align_items": null,
            "bottom": null,
            "_model_module": "@jupyter-widgets/base",
            "top": null,
            "grid_column": null,
            "overflow_y": null,
            "overflow_x": null,
            "grid_auto_flow": null,
            "grid_area": null,
            "grid_template_columns": null,
            "flex": null,
            "_model_name": "LayoutModel",
            "justify_items": null,
            "grid_row": null,
            "max_height": null,
            "align_content": null,
            "visibility": null,
            "align_self": null,
            "height": null,
            "min_height": null,
            "padding": null,
            "grid_auto_rows": null,
            "grid_gap": null,
            "max_width": null,
            "order": null,
            "_view_module_version": "1.2.0",
            "grid_template_areas": null,
            "object_position": null,
            "object_fit": null,
            "grid_auto_columns": null,
            "margin": null,
            "display": null,
            "left": null
          }
        },
        "444af757bad44406b3ed3e829e620855": {
          "model_module": "@jupyter-widgets/controls",
          "model_name": "HTMLModel",
          "model_module_version": "1.5.0",
          "state": {
            "_view_name": "HTMLView",
            "style": "IPY_MODEL_01f3532a80174436abe8f418d205af0f",
            "_dom_classes": [],
            "description": "",
            "_model_name": "HTMLModel",
            "placeholder": "​",
            "_view_module": "@jupyter-widgets/controls",
            "_model_module_version": "1.5.0",
            "value": "Downloading: 100%",
            "_view_count": null,
            "_view_module_version": "1.5.0",
            "description_tooltip": null,
            "_model_module": "@jupyter-widgets/controls",
            "layout": "IPY_MODEL_6cc8aea05df6485497e3e2d076665d8f"
          }
        },
        "7be181fbc675483aa913b00ffdd836e2": {
          "model_module": "@jupyter-widgets/controls",
          "model_name": "FloatProgressModel",
          "model_module_version": "1.5.0",
          "state": {
            "_view_name": "ProgressView",
            "style": "IPY_MODEL_e8d485f81da84a50b15ae43a1f375d99",
            "_dom_classes": [],
            "description": "",
            "_model_name": "FloatProgressModel",
            "bar_style": "success",
            "max": 112,
            "_view_module": "@jupyter-widgets/controls",
            "_model_module_version": "1.5.0",
            "value": 112,
            "_view_count": null,
            "_view_module_version": "1.5.0",
            "orientation": "horizontal",
            "min": 0,
            "description_tooltip": null,
            "_model_module": "@jupyter-widgets/controls",
            "layout": "IPY_MODEL_1d15bcde196b44dcbdfd1940e2fbc784"
          }
        },
        "344413075671437ebbab09c43cba7eed": {
          "model_module": "@jupyter-widgets/controls",
          "model_name": "HTMLModel",
          "model_module_version": "1.5.0",
          "state": {
            "_view_name": "HTMLView",
            "style": "IPY_MODEL_813b58b7ce56432498e7717e0c070012",
            "_dom_classes": [],
            "description": "",
            "_model_name": "HTMLModel",
            "placeholder": "​",
            "_view_module": "@jupyter-widgets/controls",
            "_model_module_version": "1.5.0",
            "value": " 112/112 [00:00&lt;00:00, 2.41kB/s]",
            "_view_count": null,
            "_view_module_version": "1.5.0",
            "description_tooltip": null,
            "_model_module": "@jupyter-widgets/controls",
            "layout": "IPY_MODEL_0914d8ef941b43648c7326bd3c0d2920"
          }
        },
        "01f3532a80174436abe8f418d205af0f": {
          "model_module": "@jupyter-widgets/controls",
          "model_name": "DescriptionStyleModel",
          "model_module_version": "1.5.0",
          "state": {
            "_view_name": "StyleView",
            "_model_name": "DescriptionStyleModel",
            "description_width": "",
            "_view_module": "@jupyter-widgets/base",
            "_model_module_version": "1.5.0",
            "_view_count": null,
            "_view_module_version": "1.2.0",
            "_model_module": "@jupyter-widgets/controls"
          }
        },
        "6cc8aea05df6485497e3e2d076665d8f": {
          "model_module": "@jupyter-widgets/base",
          "model_name": "LayoutModel",
          "model_module_version": "1.2.0",
          "state": {
            "_view_name": "LayoutView",
            "grid_template_rows": null,
            "right": null,
            "justify_content": null,
            "_view_module": "@jupyter-widgets/base",
            "overflow": null,
            "_model_module_version": "1.2.0",
            "_view_count": null,
            "flex_flow": null,
            "width": null,
            "min_width": null,
            "border": null,
            "align_items": null,
            "bottom": null,
            "_model_module": "@jupyter-widgets/base",
            "top": null,
            "grid_column": null,
            "overflow_y": null,
            "overflow_x": null,
            "grid_auto_flow": null,
            "grid_area": null,
            "grid_template_columns": null,
            "flex": null,
            "_model_name": "LayoutModel",
            "justify_items": null,
            "grid_row": null,
            "max_height": null,
            "align_content": null,
            "visibility": null,
            "align_self": null,
            "height": null,
            "min_height": null,
            "padding": null,
            "grid_auto_rows": null,
            "grid_gap": null,
            "max_width": null,
            "order": null,
            "_view_module_version": "1.2.0",
            "grid_template_areas": null,
            "object_position": null,
            "object_fit": null,
            "grid_auto_columns": null,
            "margin": null,
            "display": null,
            "left": null
          }
        },
        "e8d485f81da84a50b15ae43a1f375d99": {
          "model_module": "@jupyter-widgets/controls",
          "model_name": "ProgressStyleModel",
          "model_module_version": "1.5.0",
          "state": {
            "_view_name": "StyleView",
            "_model_name": "ProgressStyleModel",
            "description_width": "",
            "_view_module": "@jupyter-widgets/base",
            "_model_module_version": "1.5.0",
            "_view_count": null,
            "_view_module_version": "1.2.0",
            "bar_color": null,
            "_model_module": "@jupyter-widgets/controls"
          }
        },
        "1d15bcde196b44dcbdfd1940e2fbc784": {
          "model_module": "@jupyter-widgets/base",
          "model_name": "LayoutModel",
          "model_module_version": "1.2.0",
          "state": {
            "_view_name": "LayoutView",
            "grid_template_rows": null,
            "right": null,
            "justify_content": null,
            "_view_module": "@jupyter-widgets/base",
            "overflow": null,
            "_model_module_version": "1.2.0",
            "_view_count": null,
            "flex_flow": null,
            "width": null,
            "min_width": null,
            "border": null,
            "align_items": null,
            "bottom": null,
            "_model_module": "@jupyter-widgets/base",
            "top": null,
            "grid_column": null,
            "overflow_y": null,
            "overflow_x": null,
            "grid_auto_flow": null,
            "grid_area": null,
            "grid_template_columns": null,
            "flex": null,
            "_model_name": "LayoutModel",
            "justify_items": null,
            "grid_row": null,
            "max_height": null,
            "align_content": null,
            "visibility": null,
            "align_self": null,
            "height": null,
            "min_height": null,
            "padding": null,
            "grid_auto_rows": null,
            "grid_gap": null,
            "max_width": null,
            "order": null,
            "_view_module_version": "1.2.0",
            "grid_template_areas": null,
            "object_position": null,
            "object_fit": null,
            "grid_auto_columns": null,
            "margin": null,
            "display": null,
            "left": null
          }
        },
        "813b58b7ce56432498e7717e0c070012": {
          "model_module": "@jupyter-widgets/controls",
          "model_name": "DescriptionStyleModel",
          "model_module_version": "1.5.0",
          "state": {
            "_view_name": "StyleView",
            "_model_name": "DescriptionStyleModel",
            "description_width": "",
            "_view_module": "@jupyter-widgets/base",
            "_model_module_version": "1.5.0",
            "_view_count": null,
            "_view_module_version": "1.2.0",
            "_model_module": "@jupyter-widgets/controls"
          }
        },
        "0914d8ef941b43648c7326bd3c0d2920": {
          "model_module": "@jupyter-widgets/base",
          "model_name": "LayoutModel",
          "model_module_version": "1.2.0",
          "state": {
            "_view_name": "LayoutView",
            "grid_template_rows": null,
            "right": null,
            "justify_content": null,
            "_view_module": "@jupyter-widgets/base",
            "overflow": null,
            "_model_module_version": "1.2.0",
            "_view_count": null,
            "flex_flow": null,
            "width": null,
            "min_width": null,
            "border": null,
            "align_items": null,
            "bottom": null,
            "_model_module": "@jupyter-widgets/base",
            "top": null,
            "grid_column": null,
            "overflow_y": null,
            "overflow_x": null,
            "grid_auto_flow": null,
            "grid_area": null,
            "grid_template_columns": null,
            "flex": null,
            "_model_name": "LayoutModel",
            "justify_items": null,
            "grid_row": null,
            "max_height": null,
            "align_content": null,
            "visibility": null,
            "align_self": null,
            "height": null,
            "min_height": null,
            "padding": null,
            "grid_auto_rows": null,
            "grid_gap": null,
            "max_width": null,
            "order": null,
            "_view_module_version": "1.2.0",
            "grid_template_areas": null,
            "object_position": null,
            "object_fit": null,
            "grid_auto_columns": null,
            "margin": null,
            "display": null,
            "left": null
          }
        }
      }
    }
  },
  "cells": [
    {
      "cell_type": "markdown",
      "metadata": {
        "id": "view-in-github",
        "colab_type": "text"
      },
      "source": [
        "<a href=\"https://colab.research.google.com/github/JacopoMangiavacchi/SBERT-ZSC/blob/main/ZSC_Test.ipynb\" target=\"_parent\"><img src=\"https://colab.research.google.com/assets/colab-badge.svg\" alt=\"Open In Colab\"/></a>"
      ]
    },
    {
      "cell_type": "code",
      "metadata": {
        "colab": {
          "base_uri": "https://localhost:8080/"
        },
        "id": "RMdYLcYu2TTO",
        "outputId": "390ba04f-853c-49da-884b-2678d865b49c"
      },
      "source": [
        "!pip install transformers"
      ],
      "execution_count": null,
      "outputs": [
        {
          "output_type": "stream",
          "name": "stdout",
          "text": [
            "Requirement already satisfied: transformers in /usr/local/lib/python3.7/dist-packages (4.10.2)\n",
            "Requirement already satisfied: importlib-metadata in /usr/local/lib/python3.7/dist-packages (from transformers) (4.6.4)\n",
            "Requirement already satisfied: pyyaml>=5.1 in /usr/local/lib/python3.7/dist-packages (from transformers) (5.4.1)\n",
            "Requirement already satisfied: sacremoses in /usr/local/lib/python3.7/dist-packages (from transformers) (0.0.45)\n",
            "Requirement already satisfied: regex!=2019.12.17 in /usr/local/lib/python3.7/dist-packages (from transformers) (2019.12.20)\n",
            "Requirement already satisfied: packaging in /usr/local/lib/python3.7/dist-packages (from transformers) (21.0)\n",
            "Requirement already satisfied: filelock in /usr/local/lib/python3.7/dist-packages (from transformers) (3.0.12)\n",
            "Requirement already satisfied: tokenizers<0.11,>=0.10.1 in /usr/local/lib/python3.7/dist-packages (from transformers) (0.10.3)\n",
            "Requirement already satisfied: numpy>=1.17 in /usr/local/lib/python3.7/dist-packages (from transformers) (1.19.5)\n",
            "Requirement already satisfied: huggingface-hub>=0.0.12 in /usr/local/lib/python3.7/dist-packages (from transformers) (0.0.16)\n",
            "Requirement already satisfied: requests in /usr/local/lib/python3.7/dist-packages (from transformers) (2.23.0)\n",
            "Requirement already satisfied: tqdm>=4.27 in /usr/local/lib/python3.7/dist-packages (from transformers) (4.62.0)\n",
            "Requirement already satisfied: typing-extensions in /usr/local/lib/python3.7/dist-packages (from huggingface-hub>=0.0.12->transformers) (3.7.4.3)\n",
            "Requirement already satisfied: pyparsing>=2.0.2 in /usr/local/lib/python3.7/dist-packages (from packaging->transformers) (2.4.7)\n",
            "Requirement already satisfied: zipp>=0.5 in /usr/local/lib/python3.7/dist-packages (from importlib-metadata->transformers) (3.5.0)\n",
            "Requirement already satisfied: chardet<4,>=3.0.2 in /usr/local/lib/python3.7/dist-packages (from requests->transformers) (3.0.4)\n",
            "Requirement already satisfied: certifi>=2017.4.17 in /usr/local/lib/python3.7/dist-packages (from requests->transformers) (2021.5.30)\n",
            "Requirement already satisfied: urllib3!=1.25.0,!=1.25.1,<1.26,>=1.21.1 in /usr/local/lib/python3.7/dist-packages (from requests->transformers) (1.24.3)\n",
            "Requirement already satisfied: idna<3,>=2.5 in /usr/local/lib/python3.7/dist-packages (from requests->transformers) (2.10)\n",
            "Requirement already satisfied: click in /usr/local/lib/python3.7/dist-packages (from sacremoses->transformers) (7.1.2)\n",
            "Requirement already satisfied: joblib in /usr/local/lib/python3.7/dist-packages (from sacremoses->transformers) (1.0.1)\n",
            "Requirement already satisfied: six in /usr/local/lib/python3.7/dist-packages (from sacremoses->transformers) (1.15.0)\n"
          ]
        }
      ]
    },
    {
      "cell_type": "code",
      "metadata": {
        "id": "gLta5GZA7O5h"
      },
      "source": [
        "sentence = 'Who are you voting for in 2020?'\n",
        "labels = ['business', 'art & culture', 'politics']"
      ],
      "execution_count": null,
      "outputs": []
    },
    {
      "cell_type": "markdown",
      "metadata": {
        "id": "Dvq8hhhW7PRo"
      },
      "source": [
        "# Test HuggingFace Zero Shot Classification Pipeline"
      ]
    },
    {
      "cell_type": "code",
      "metadata": {
        "colab": {
          "base_uri": "https://localhost:8080/"
        },
        "id": "87TEvnr57Oue",
        "outputId": "5b23e9df-8883-4b36-df83-a29d2ac54409"
      },
      "source": [
        "from transformers import pipeline\n",
        "\n",
        "classifier = pipeline('zero-shot-classification')"
      ],
      "execution_count": null,
      "outputs": [
        {
          "output_type": "stream",
          "name": "stderr",
          "text": [
            "No model was supplied, defaulted to facebook/bart-large-mnli (https://huggingface.co/facebook/bart-large-mnli)\n"
          ]
        }
      ]
    },
    {
      "cell_type": "code",
      "metadata": {
        "colab": {
          "base_uri": "https://localhost:8080/"
        },
        "id": "J0Wom8417OWB",
        "outputId": "c12d48df-480f-4a8a-e89d-daa1403da52c"
      },
      "source": [
        "classes = classifier(sentence, labels)\n",
        "classes"
      ],
      "execution_count": null,
      "outputs": [
        {
          "output_type": "execute_result",
          "data": {
            "text/plain": [
              "{'labels': ['politics', 'business', 'art & culture'],\n",
              " 'scores': [0.9604313373565674, 0.02018606849014759, 0.01938255876302719],\n",
              " 'sequence': 'Who are you voting for in 2020?'}"
            ]
          },
          "metadata": {},
          "execution_count": 4
        }
      ]
    },
    {
      "cell_type": "markdown",
      "metadata": {
        "id": "9TkW56SRVW8C"
      },
      "source": [
        "# Test with simple BERT Sentence Embedding and cosine similarity"
      ]
    },
    {
      "cell_type": "code",
      "metadata": {
        "colab": {
          "base_uri": "https://localhost:8080/"
        },
        "id": "1rm9VGsuVSAJ",
        "outputId": "2316fbd7-7b20-4971-825f-2800653cf765"
      },
      "source": [
        "from transformers import AutoTokenizer, AutoModel\n",
        "from torch.nn import functional as F\n",
        "from scipy import spatial\n",
        "\n",
        "# tokenizer = AutoTokenizer.from_pretrained('deepset/sentence_bert')\n",
        "tokenizer = AutoTokenizer.from_pretrained('bert-base-uncased')\n",
        "model = AutoModel.from_pretrained('deepset/sentence_bert')"
      ],
      "execution_count": null,
      "outputs": [
        {
          "output_type": "stream",
          "name": "stderr",
          "text": [
            "Some weights of the model checkpoint at deepset/sentence_bert were not used when initializing BertModel: ['classifier.bias', 'classifier.weight']\n",
            "- This IS expected if you are initializing BertModel from the checkpoint of a model trained on another task or with another architecture (e.g. initializing a BertForSequenceClassification model from a BertForPreTraining model).\n",
            "- This IS NOT expected if you are initializing BertModel from the checkpoint of a model that you expect to be exactly identical (initializing a BertForSequenceClassification model from a BertForSequenceClassification model).\n"
          ]
        }
      ]
    },
    {
      "cell_type": "code",
      "metadata": {
        "colab": {
          "base_uri": "https://localhost:8080/"
        },
        "id": "zTvB2WtDWTb9",
        "outputId": "62152e04-a9a2-4e90-a34a-cf2861e2e23a"
      },
      "source": [
        "# run inputs through model and mean-pool over the sequence\n",
        "# dimension to get sequence-level representations\n",
        "inputs = tokenizer.batch_encode_plus([sentence] + labels,\n",
        "                                     return_tensors='pt',\n",
        "                                     pad_to_max_length=True)"
      ],
      "execution_count": null,
      "outputs": [
        {
          "output_type": "stream",
          "name": "stderr",
          "text": [
            "/usr/local/lib/python3.7/dist-packages/transformers/tokenization_utils_base.py:2204: FutureWarning: The `pad_to_max_length` argument is deprecated and will be removed in a future version, use `padding=True` or `padding='longest'` to pad to the longest sequence in the batch, or use `padding='max_length'` to pad to a max length. In this case, you can give a specific length with `max_length` (e.g. `max_length=45`) or leave max_length to None to pad to the maximal input size of the model (e.g. 512 for Bert).\n",
            "  FutureWarning,\n"
          ]
        }
      ]
    },
    {
      "cell_type": "code",
      "metadata": {
        "id": "Q9BiUZKKWiuv"
      },
      "source": [
        "input_ids = inputs['input_ids']\n",
        "attention_mask = inputs['attention_mask']\n",
        "output = model(input_ids, attention_mask=attention_mask)[0]\n",
        "sentence_rep = output[:1].mean(dim=1)\n",
        "label_reps = output[1:].mean(dim=1)"
      ],
      "execution_count": null,
      "outputs": []
    },
    {
      "cell_type": "code",
      "metadata": {
        "colab": {
          "base_uri": "https://localhost:8080/"
        },
        "id": "dfxQY9PBWupK",
        "outputId": "0c17634d-3f1f-4047-cc0a-46cb917a5bbd"
      },
      "source": [
        "# find the highest cosine similarities between sentences\n",
        "print(F.cosine_similarity(sentence_rep[0], label_reps[0], dim=0))\n",
        "print(F.cosine_similarity(sentence_rep[0], label_reps[1], dim=0))\n",
        "print(F.cosine_similarity(sentence_rep[0], label_reps[2], dim=0))"
      ],
      "execution_count": null,
      "outputs": [
        {
          "output_type": "stream",
          "name": "stdout",
          "text": [
            "tensor(0.0045, grad_fn=<DivBackward0>)\n",
            "tensor(-0.0274, grad_fn=<DivBackward0>)\n",
            "tensor(0.2156, grad_fn=<DivBackward0>)\n"
          ]
        }
      ]
    },
    {
      "cell_type": "code",
      "metadata": {
        "colab": {
          "base_uri": "https://localhost:8080/"
        },
        "id": "MrQGdA07XQ7K",
        "outputId": "f98d1f5f-8cf3-4989-a32d-6908aa31cbec"
      },
      "source": [
        "sentence_embedding = sentence_rep.detach().numpy()\n",
        "label_embedding = label_reps.detach().numpy()\n",
        "\n",
        "print(1 - spatial.distance.cosine(sentence_embedding[0], label_embedding[0]))\n",
        "print(1 - spatial.distance.cosine(sentence_embedding[0], label_embedding[1]))\n",
        "print(1 - spatial.distance.cosine(sentence_embedding[0], label_embedding[2]))\n"
      ],
      "execution_count": null,
      "outputs": [
        {
          "output_type": "stream",
          "name": "stdout",
          "text": [
            "0.00452416529878974\n",
            "-0.02739686518907547\n",
            "0.2156151980161667\n"
          ]
        }
      ]
    },
    {
      "cell_type": "code",
      "metadata": {
        "colab": {
          "base_uri": "https://localhost:8080/"
        },
        "id": "l1QeXaPZt4CG",
        "outputId": "9352fd76-7ffd-4edc-b1f2-4b676d3b54b8"
      },
      "source": [
        "similarities = F.cosine_similarity(sentence_rep, label_reps)\n",
        "closest = similarities.argsort(descending=True)\n",
        "for ind in closest:\n",
        "  print(f'label: {labels[ind]} \\t similarity: {similarities[ind]}')"
      ],
      "execution_count": null,
      "outputs": [
        {
          "output_type": "stream",
          "name": "stdout",
          "text": [
            "label: politics \t similarity: 0.2156151831150055\n",
            "label: business \t similarity: 0.004524169024080038\n",
            "label: art & culture \t similarity: -0.02739686332643032\n"
          ]
        }
      ]
    },
    {
      "cell_type": "code",
      "metadata": {
        "colab": {
          "base_uri": "https://localhost:8080/"
        },
        "id": "BkCvlxq69_Al",
        "outputId": "5991167b-f1e9-4ed8-d924-d0ab0e40ca05"
      },
      "source": [
        "similarities, F.softmax(similarities)"
      ],
      "execution_count": null,
      "outputs": [
        {
          "output_type": "stream",
          "name": "stderr",
          "text": [
            "/usr/local/lib/python3.7/dist-packages/ipykernel_launcher.py:1: UserWarning: Implicit dimension choice for softmax has been deprecated. Change the call to include dim=X as an argument.\n",
            "  \"\"\"Entry point for launching an IPython kernel.\n"
          ]
        },
        {
          "output_type": "execute_result",
          "data": {
            "text/plain": [
              "(tensor([ 0.0045, -0.0274,  0.2156], grad_fn=<DivBackward0>),\n",
              " tensor([0.3121, 0.3023, 0.3855], grad_fn=<SoftmaxBackward>))"
            ]
          },
          "metadata": {},
          "execution_count": 11
        }
      ]
    },
    {
      "cell_type": "markdown",
      "metadata": {
        "id": "AN6-MjCBApb7"
      },
      "source": [
        "# Test augmenting labels with static embedding neighbors (GloVe) and BERT Sentence Embedding with cosine similarity"
      ]
    },
    {
      "cell_type": "code",
      "metadata": {
        "colab": {
          "base_uri": "https://localhost:8080/"
        },
        "id": "4GYm5yoR_MeH",
        "outputId": "1577b37c-a377-400b-b9e9-91ffbcec5df2"
      },
      "source": [
        "import torchtext.vocab\n",
        "\n",
        "glove = torchtext.vocab.GloVe(name='6B', dim=100)\n",
        "print(f\"{len(glove.itos)} words in dictionary\")"
      ],
      "execution_count": null,
      "outputs": [
        {
          "output_type": "stream",
          "name": "stdout",
          "text": [
            "400000 words in dictionary\n"
          ]
        }
      ]
    },
    {
      "cell_type": "code",
      "metadata": {
        "id": "l3aQCn04BWWd"
      },
      "source": [
        "import torch\n",
        "\n",
        "def get_vector(embeddings, w):\n",
        "  return embeddings.vectors[embeddings.stoi[w]]\n",
        "\n",
        "def closest_words(embeddings, vector, n=10):\n",
        "  distances = [(w, torch.dist(vector, get_vector(embeddings, w)).item()) for w in embeddings.itos]\n",
        "  return sorted(distances, key = lambda w: w[1])[:n]"
      ],
      "execution_count": null,
      "outputs": []
    },
    {
      "cell_type": "code",
      "metadata": {
        "colab": {
          "base_uri": "https://localhost:8080/"
        },
        "id": "oLD123U6ChCJ",
        "outputId": "dc7c4e87-ab91-457d-8d11-c0017035c526"
      },
      "source": [
        "closest_words(glove, get_vector(glove, 'politics'))"
      ],
      "execution_count": null,
      "outputs": [
        {
          "output_type": "execute_result",
          "data": {
            "text/plain": [
              "[('politics', 0.0),\n",
              " ('political', 3.8383750915527344),\n",
              " ('debate', 4.631179332733154),\n",
              " ('matters', 4.661602973937988),\n",
              " ('influence', 4.729617118835449),\n",
              " ('culture', 4.731587886810303),\n",
              " ('rather', 4.750455856323242),\n",
              " ('history', 4.752238750457764),\n",
              " ('politicians', 4.768784999847412),\n",
              " ('matter', 4.817280292510986)]"
            ]
          },
          "metadata": {},
          "execution_count": 14
        }
      ]
    },
    {
      "cell_type": "code",
      "metadata": {
        "colab": {
          "base_uri": "https://localhost:8080/"
        },
        "id": "3MVTjVIjDLQz",
        "outputId": "aefe8c06-7242-41a9-ab9a-d3d7e0613154"
      },
      "source": [
        "labels_neighbours = [closest_words(glove, get_vector(glove, word)) for label in labels for word in label.split(' & ')]\n",
        "labels_neighbours"
      ],
      "execution_count": null,
      "outputs": [
        {
          "output_type": "execute_result",
          "data": {
            "text/plain": [
              "[[('business', 0.0),\n",
              "  ('industry', 3.5567009449005127),\n",
              "  ('businesses', 3.84977126121521),\n",
              "  ('marketing', 3.870338201522827),\n",
              "  ('corporate', 3.901237726211548),\n",
              "  ('enterprise', 4.052821636199951),\n",
              "  ('companies', 4.098732948303223),\n",
              "  ('company', 4.115787982940674),\n",
              "  ('well', 4.250703811645508),\n",
              "  ('commercial', 4.251638889312744)],\n",
              " [('art', 0.0),\n",
              "  ('arts', 3.688779592514038),\n",
              "  ('museum', 3.934798240661621),\n",
              "  ('sculpture', 4.103562355041504),\n",
              "  ('works', 4.126135349273682),\n",
              "  ('photography', 4.151274681091309),\n",
              "  ('contemporary', 4.155360221862793),\n",
              "  ('painting', 4.276235103607178),\n",
              "  ('gallery', 4.385191440582275),\n",
              "  ('collection', 4.4654622077941895)],\n",
              " [('culture', 0.0),\n",
              "  ('cultural', 3.783661127090454),\n",
              "  ('tradition', 4.208914279937744),\n",
              "  ('traditions', 4.227012634277344),\n",
              "  ('cultures', 4.243590831756592),\n",
              "  ('civilization', 4.2488861083984375),\n",
              "  ('society', 4.413925647735596),\n",
              "  ('history', 4.420716285705566),\n",
              "  ('religion', 4.51834774017334),\n",
              "  ('context', 4.550448894500732)],\n",
              " [('politics', 0.0),\n",
              "  ('political', 3.8383750915527344),\n",
              "  ('debate', 4.631179332733154),\n",
              "  ('matters', 4.661602973937988),\n",
              "  ('influence', 4.729617118835449),\n",
              "  ('culture', 4.731587886810303),\n",
              "  ('rather', 4.750455856323242),\n",
              "  ('history', 4.752238750457764),\n",
              "  ('politicians', 4.768784999847412),\n",
              "  ('matter', 4.817280292510986)]]"
            ]
          },
          "metadata": {},
          "execution_count": 15
        }
      ]
    },
    {
      "cell_type": "code",
      "metadata": {
        "colab": {
          "base_uri": "https://localhost:8080/"
        },
        "id": "a0aECXYwFKcO",
        "outputId": "a8ba774d-96fe-4718-bac8-1b5c7552ce05"
      },
      "source": [
        "labels_neighbours = []\n",
        "for l in range(len(labels)):\n",
        "  neighbours = []\n",
        "  for word in labels[l].split(' & '):\n",
        "    neighbours.extend([n[0] for n in closest_words(glove, get_vector(glove, word))])\n",
        "  labels_neighbours.append(neighbours)\n",
        "\n",
        "labels_neighbours"
      ],
      "execution_count": null,
      "outputs": [
        {
          "output_type": "execute_result",
          "data": {
            "text/plain": [
              "[['business',\n",
              "  'industry',\n",
              "  'businesses',\n",
              "  'marketing',\n",
              "  'corporate',\n",
              "  'enterprise',\n",
              "  'companies',\n",
              "  'company',\n",
              "  'well',\n",
              "  'commercial'],\n",
              " ['art',\n",
              "  'arts',\n",
              "  'museum',\n",
              "  'sculpture',\n",
              "  'works',\n",
              "  'photography',\n",
              "  'contemporary',\n",
              "  'painting',\n",
              "  'gallery',\n",
              "  'collection',\n",
              "  'culture',\n",
              "  'cultural',\n",
              "  'tradition',\n",
              "  'traditions',\n",
              "  'cultures',\n",
              "  'civilization',\n",
              "  'society',\n",
              "  'history',\n",
              "  'religion',\n",
              "  'context'],\n",
              " ['politics',\n",
              "  'political',\n",
              "  'debate',\n",
              "  'matters',\n",
              "  'influence',\n",
              "  'culture',\n",
              "  'rather',\n",
              "  'history',\n",
              "  'politicians',\n",
              "  'matter']]"
            ]
          },
          "metadata": {},
          "execution_count": 16
        }
      ]
    },
    {
      "cell_type": "code",
      "metadata": {
        "colab": {
          "base_uri": "https://localhost:8080/"
        },
        "id": "nKOVswCXGJuD",
        "outputId": "2e369977-f736-4d3c-9a5e-82ecc2d07d01"
      },
      "source": [
        "labels_sentences = [' & '.join(neighbor) for neighbor in labels_neighbours]\n",
        "labels_sentences"
      ],
      "execution_count": null,
      "outputs": [
        {
          "output_type": "execute_result",
          "data": {
            "text/plain": [
              "['business & industry & businesses & marketing & corporate & enterprise & companies & company & well & commercial',\n",
              " 'art & arts & museum & sculpture & works & photography & contemporary & painting & gallery & collection & culture & cultural & tradition & traditions & cultures & civilization & society & history & religion & context',\n",
              " 'politics & political & debate & matters & influence & culture & rather & history & politicians & matter']"
            ]
          },
          "metadata": {},
          "execution_count": 17
        }
      ]
    },
    {
      "cell_type": "code",
      "metadata": {
        "colab": {
          "base_uri": "https://localhost:8080/"
        },
        "id": "5fh_vymjIYY7",
        "outputId": "fa1f03b2-5247-4424-b9f8-f93090ddacd1"
      },
      "source": [
        "# run inputs through model and mean-pool over the sequence\n",
        "# dimension to get sequence-level representations\n",
        "inputs = tokenizer.batch_encode_plus([sentence] + labels_sentences,\n",
        "                                     return_tensors='pt',\n",
        "                                     pad_to_max_length=True)\n",
        "\n",
        "input_ids = inputs['input_ids']\n",
        "attention_mask = inputs['attention_mask']\n",
        "output = model(input_ids, attention_mask=attention_mask)[0]\n",
        "sentence_rep = output[:1].mean(dim=1)\n",
        "label_reps = output[1:].mean(dim=1)\n",
        "\n",
        "similarities = F.cosine_similarity(sentence_rep, label_reps)\n",
        "closest = similarities.argsort(descending=True)\n",
        "for ind in closest:\n",
        "  print(f'label: {labels[ind]} \\t similarity: {similarities[ind]}')"
      ],
      "execution_count": null,
      "outputs": [
        {
          "output_type": "stream",
          "name": "stderr",
          "text": [
            "/usr/local/lib/python3.7/dist-packages/transformers/tokenization_utils_base.py:2204: FutureWarning: The `pad_to_max_length` argument is deprecated and will be removed in a future version, use `padding=True` or `padding='longest'` to pad to the longest sequence in the batch, or use `padding='max_length'` to pad to a max length. In this case, you can give a specific length with `max_length` (e.g. `max_length=45`) or leave max_length to None to pad to the maximal input size of the model (e.g. 512 for Bert).\n",
            "  FutureWarning,\n"
          ]
        },
        {
          "output_type": "stream",
          "name": "stdout",
          "text": [
            "label: politics \t similarity: 0.19136422872543335\n",
            "label: business \t similarity: 0.01101242657750845\n",
            "label: art & culture \t similarity: -0.04034052789211273\n"
          ]
        }
      ]
    },
    {
      "cell_type": "markdown",
      "metadata": {
        "id": "KxRc5mw-6ef-"
      },
      "source": [
        "# Test with BERT MNLI Sequence Classification large (BART-LARGE-MNLI) with simple labels"
      ]
    },
    {
      "cell_type": "code",
      "metadata": {
        "id": "q4lXXopo6Ayg"
      },
      "source": [
        "from transformers import AutoModelForSequenceClassification, AutoTokenizer\n",
        "\n",
        "tokenizer = AutoTokenizer.from_pretrained('facebook/bart-large-mnli')\n",
        "model = AutoModelForSequenceClassification.from_pretrained('facebook/bart-large-mnli')"
      ],
      "execution_count": null,
      "outputs": []
    },
    {
      "cell_type": "code",
      "metadata": {
        "colab": {
          "base_uri": "https://localhost:8080/"
        },
        "id": "yXQJogLOBM2T",
        "outputId": "99abf019-4bea-410a-e381-280c69af88a2"
      },
      "source": [
        "sentence = 'Who are you voting for in 2020?'\n",
        "labels = ['business', 'art & culture', 'politics']\n",
        "\n",
        "print(f\"{sentence}\\n\")\n",
        "for label in labels:\n",
        "  # run through model pre-trained on MNLI matching sentense with first label neighbors sentence\n",
        "  x = tokenizer.encode(sentence, label, return_tensors='pt',\n",
        "                       truncation=True)\n",
        "  logits = model(x)[0]\n",
        "\n",
        "  # we throw away \"neutral\" (dim 1) and take the probability of\n",
        "  # \"entailment\" (2) as the probability of the label being true \n",
        "  entail_contradiction_logits = logits[:,[0,2]]\n",
        "  probs = entail_contradiction_logits.softmax(dim=1)\n",
        "  prob_label_is_true = probs[:,1]\n",
        "  print(prob_label_is_true.item(), label)"
      ],
      "execution_count": null,
      "outputs": [
        {
          "output_type": "stream",
          "name": "stdout",
          "text": [
            "Who are you voting for in 2020?\n",
            "\n",
            "0.25931456685066223 business\n",
            "0.06867887079715729 art & culture\n",
            "0.7672102451324463 politics\n"
          ]
        }
      ]
    },
    {
      "cell_type": "markdown",
      "metadata": {
        "id": "FXKyfJK2yn3n"
      },
      "source": [
        "# Test BERT MNLI Sequence Classification with augmented labels by static embedding neighbors (GloVe)"
      ]
    },
    {
      "cell_type": "code",
      "metadata": {
        "colab": {
          "base_uri": "https://localhost:8080/"
        },
        "id": "U8cgu4qQ6Pba",
        "outputId": "9b437932-17dc-4a5d-890d-1ec04d7f1846"
      },
      "source": [
        "print(f\"{sentence}\\n\")\n",
        "for label_sentence in labels_sentences:\n",
        "  # run through model pre-trained on MNLI matching sentense with first label neighbors sentence\n",
        "  x = tokenizer.encode(sentence, label_sentence, return_tensors='pt',\n",
        "                       truncation=True)\n",
        "  logits = model(x)[0]\n",
        "\n",
        "  # we throw away \"neutral\" (dim 1) and take the probability of\n",
        "  # \"entailment\" (2) as the probability of the label being true \n",
        "  entail_contradiction_logits = logits[:,[0,2]]\n",
        "  probs = entail_contradiction_logits.softmax(dim=1)\n",
        "  prob_label_is_true = probs[:,1]\n",
        "  print(prob_label_is_true.item(), label_sentence)"
      ],
      "execution_count": null,
      "outputs": [
        {
          "output_type": "stream",
          "name": "stdout",
          "text": [
            "Who are you voting for in 2020?\n",
            "\n",
            "0.7021744251251221 business & industry & businesses & marketing & corporate & enterprise & companies & company & well & commercial\n",
            "0.9785778522491455 art & arts & museum & sculpture & works & photography & contemporary & painting & gallery & collection & culture & cultural & tradition & traditions & cultures & civilization & society & history & religion & context\n",
            "0.919766902923584 politics & political & debate & matters & influence & culture & rather & history & politicians & matter\n"
          ]
        }
      ]
    },
    {
      "cell_type": "code",
      "metadata": {
        "colab": {
          "base_uri": "https://localhost:8080/"
        },
        "id": "HTUCcwk_77qp",
        "outputId": "53e9a7bd-5540-4c9c-ba5b-e9e1b48eb53c"
      },
      "source": [
        "sentence = \"Who are you voting for in 2020?\"\n",
        "labels = ['foreign policy', 'Europe', 'elections & vote', 'business & industry & businesses & marketing', '2020', 'outdoor recreation', 'politics & political & debate & matters & influence & culture & rather & history & politicians & matter', 'art & culture & arts & museum & sculpture & photography & painting & gallery']\n",
        "\n",
        "print(f\"{sentence}\\n\")\n",
        "for label in labels:\n",
        "  # run through model pre-trained on MNLI matching sentense with first label neighbors sentence\n",
        "  x = tokenizer.encode(sentence, label, return_tensors='pt',\n",
        "                       truncation=True)\n",
        "  logits = model(x)[0]\n",
        "\n",
        "  # we throw away \"neutral\" (dim 1) and take the probability of\n",
        "  # \"entailment\" (2) as the probability of the label being true \n",
        "  entail_contradiction_logits = logits[:,[0,2]]\n",
        "  probs = entail_contradiction_logits.softmax(dim=1)\n",
        "  prob_label_is_true = probs[:,1]\n",
        "  print(prob_label_is_true.item(), label)"
      ],
      "execution_count": null,
      "outputs": [
        {
          "output_type": "stream",
          "name": "stdout",
          "text": [
            "Who are you voting for in 2020?\n",
            "\n",
            "0.5547316074371338 foreign policy\n",
            "0.03854397311806679 Europe\n",
            "0.8834729194641113 elections & vote\n",
            "0.04872368276119232 business & industry & businesses & marketing\n",
            "0.9925204515457153 2020\n",
            "0.16657975316047668 outdoor recreation\n",
            "0.919766902923584 politics & political & debate & matters & influence & culture & rather & history & politicians & matter\n",
            "0.13452966511249542 art & culture & arts & museum & sculpture & photography & painting & gallery\n"
          ]
        }
      ]
    },
    {
      "cell_type": "markdown",
      "metadata": {
        "id": "g-OQ4-STzcYp"
      },
      "source": [
        "# Test with BERT MNLI Sequence Classification small (DistilBert-Uncased-MNLI) with simple labels"
      ]
    },
    {
      "cell_type": "code",
      "metadata": {
        "id": "OhrWvhBeLlnv"
      },
      "source": [
        "from transformers import AutoModelForSequenceClassification, AutoTokenizer\n",
        "\n",
        "tokenizer = AutoTokenizer.from_pretrained('textattack/distilbert-base-uncased-MNLI')\n",
        "model = AutoModelForSequenceClassification.from_pretrained('textattack/distilbert-base-uncased-MNLI')"
      ],
      "execution_count": null,
      "outputs": []
    },
    {
      "cell_type": "code",
      "metadata": {
        "id": "FIaRcAzXz4DY"
      },
      "source": [
        "sentence = 'Who are you voting for in 2020?'\n",
        "labels = ['business', 'art & culture', 'politics']"
      ],
      "execution_count": null,
      "outputs": []
    },
    {
      "cell_type": "code",
      "metadata": {
        "colab": {
          "base_uri": "https://localhost:8080/"
        },
        "id": "w8ULkUPizuo5",
        "outputId": "23ff429e-92f0-4f2c-ddb0-130aab3cfd7e"
      },
      "source": [
        "print(f\"{sentence}\\n\")\n",
        "for label_sentence in labels:\n",
        "  # run through model pre-trained on MNLI matching sentense with first label neighbors sentence\n",
        "  x = tokenizer.encode(sentence, label_sentence, return_tensors='pt',\n",
        "                       truncation=True)\n",
        "  logits = model(x)[0]\n",
        "\n",
        "  # we throw away \"neutral\" (dim 1) and take the probability of\n",
        "  # \"entailment\" (2) as the probability of the label being true \n",
        "  entail_contradiction_logits = logits[:,[0,2]]\n",
        "  probs = entail_contradiction_logits.softmax(dim=1)\n",
        "  prob_label_is_true = probs[:,1]\n",
        "  print(prob_label_is_true.item(), label_sentence)"
      ],
      "execution_count": null,
      "outputs": [
        {
          "output_type": "stream",
          "name": "stdout",
          "text": [
            "Who are you voting for in 2020?\n",
            "\n",
            "0.1496192067861557 business\n",
            "0.6417831182479858 art & culture\n",
            "0.8972325325012207 politics\n"
          ]
        }
      ]
    },
    {
      "cell_type": "code",
      "metadata": {
        "colab": {
          "base_uri": "https://localhost:8080/"
        },
        "id": "fvfYiMZ-3ziX",
        "outputId": "27f414fa-0e6a-4fc8-db73-e0e9604da29b"
      },
      "source": [
        "sentence = \"Who are you voting for in 2020?\"\n",
        "labels = ['foreign policy', 'Europe', 'elections & vote', 'business & industry & businesses & marketing', '2020', 'outdoor recreation', 'politics & political & debate & matters & influence & culture & rather & history & politicians & matter', 'art & culture & arts & museum & sculpture & photography & painting & gallery']\n",
        "\n",
        "print(f\"{sentence}\\n\")\n",
        "for label in labels:\n",
        "  # run through model pre-trained on MNLI matching sentense with first label neighbors sentence\n",
        "  x = tokenizer.encode(sentence, label, return_tensors='pt',\n",
        "                       truncation=True)\n",
        "  logits = model(x)[0]\n",
        "\n",
        "  # we throw away \"neutral\" (dim 1) and take the probability of\n",
        "  # \"entailment\" (2) as the probability of the label being true \n",
        "  entail_contradiction_logits = logits[:,[0,2]]\n",
        "  probs = entail_contradiction_logits.softmax(dim=1)\n",
        "  prob_label_is_true = probs[:,1]\n",
        "  print(prob_label_is_true.item(), label)"
      ],
      "execution_count": null,
      "outputs": [
        {
          "output_type": "stream",
          "name": "stdout",
          "text": [
            "Who are you voting for in 2020?\n",
            "\n",
            "0.8460844159126282 foreign policy\n",
            "0.786884069442749 Europe\n",
            "0.9221029877662659 elections & vote\n",
            "0.9136582612991333 business & industry & businesses & marketing\n",
            "0.6420761346817017 2020\n",
            "0.5007476210594177 outdoor recreation\n",
            "0.6367897987365723 politics & political & debate & matters & influence & culture & rather & history & politicians & matter\n",
            "0.7028875946998596 art & culture & arts & museum & sculpture & photography & painting & gallery\n"
          ]
        }
      ]
    },
    {
      "cell_type": "code",
      "metadata": {
        "colab": {
          "base_uri": "https://localhost:8080/",
          "height": 177,
          "referenced_widgets": [
            "a283ab13d1cb48f8a94879c302d3a6a7",
            "89a25aa0a47a4da7b275d52e5333f917",
            "97a2b1432be34db09dbf2e9cbf1bb0c9",
            "d3fef0332ff1458084b15b58023aecaa",
            "495207e5b01c4a7b949846bb48e030ee",
            "402ddeb2df274a2587c03a5cc0b98524",
            "10112754df5b465da1a6f4a3404ba3f0",
            "b95d78b83b3c461680ff767f709dd88c",
            "68826ee888984ef4af5655783ed9a32b",
            "8921e89b1e5f4b418ab44bbc60d37571",
            "1681a075bd294252bd89cdd886eda900",
            "c7bef43445514f7491729fe7cc00b462",
            "d4f6a618633f476bb2feb1fa95a71cc1",
            "8bbd01fa0ebc49ae857cd6ea4d181e23",
            "f60ff52e53534e1db074afd1ebaada28",
            "7ecde53847e34a639ba80aea79257f4a",
            "c69d872b14aa47be8f6fff1a1b3f625d",
            "77831008981d447683864aabb668ba1c",
            "80cea1167dc849c78c7f65bdce318453",
            "96877326f8fe4cf2bc482f9be2bf70d2",
            "e0ae1ff490a04d148472e6d600d25793",
            "133a656a01224da2a575cc94de97fc30",
            "80b3af5b831a489c8fdeec0392aa31cf",
            "8036044ab6dd49898542d519a9d4d4bd",
            "5835e723d86544cc933fb983d826f6ba",
            "6d5c0ea645ac47f98af30e7dde372685",
            "82f3d2d89b484aa78fc0bb3c4e171266",
            "2b4030e37be0417d892cc9891412a5c7",
            "3fad101b13fc49beae64aca9f9b6b405",
            "661dffa44cf24dc9819365a875b25ca7",
            "c58728a6515f4baaaef2640dbb9165b4",
            "3b3f703918ce45b3a696e9e1e5d32d64",
            "ea8cf3bec83a4252bb0669a18ecc5740",
            "89b132d9424d451b82bdc71ef0fed588",
            "808e95202d834c76b7eaef6b86d15246",
            "c5f692e0491e4381b0e185ef7759f228",
            "f250c12c75a04cd2a33ae076f3d2a1ce",
            "c899b836dd6c4ca6bfc55421b0932715",
            "8d5ae965001e48c6a506c5aedeee742d",
            "a2ef0cbec6b4435ea36770e9d8709a48",
            "80db66489e9b4f6e977b73e5fa23300c",
            "b6dca672114b425fb8df7970188fd3e8",
            "26708355b5af4c41a5f683dc8d6d2ac4",
            "6784b6a7a6ec47dab68f85e7e69741dd",
            "66a593f585bd44508695c01c8b5d7127",
            "15bea36d48fa49f3bda94af01e121c1e",
            "444af757bad44406b3ed3e829e620855",
            "7be181fbc675483aa913b00ffdd836e2",
            "344413075671437ebbab09c43cba7eed",
            "01f3532a80174436abe8f418d205af0f",
            "6cc8aea05df6485497e3e2d076665d8f",
            "e8d485f81da84a50b15ae43a1f375d99",
            "1d15bcde196b44dcbdfd1940e2fbc784",
            "813b58b7ce56432498e7717e0c070012",
            "0914d8ef941b43648c7326bd3c0d2920"
          ]
        },
        "id": "KtikA_MR5BIk",
        "outputId": "921cc90d-be54-438e-cbc4-edd5c67c0c04"
      },
      "source": [
        "from transformers import AutoModelForSequenceClassification, AutoTokenizer\n",
        "\n",
        "tokenizer = AutoTokenizer.from_pretrained('ishan/distilbert-base-uncased-mnli')\n",
        "model = AutoModelForSequenceClassification.from_pretrained('ishan/distilbert-base-uncased-mnli')"
      ],
      "execution_count": null,
      "outputs": [
        {
          "output_type": "display_data",
          "data": {
            "application/vnd.jupyter.widget-view+json": {
              "model_id": "a283ab13d1cb48f8a94879c302d3a6a7",
              "version_minor": 0,
              "version_major": 2
            },
            "text/plain": [
              "Downloading:   0%|          | 0.00/639 [00:00<?, ?B/s]"
            ]
          },
          "metadata": {}
        },
        {
          "output_type": "display_data",
          "data": {
            "application/vnd.jupyter.widget-view+json": {
              "model_id": "c7bef43445514f7491729fe7cc00b462",
              "version_minor": 0,
              "version_major": 2
            },
            "text/plain": [
              "Downloading:   0%|          | 0.00/268M [00:00<?, ?B/s]"
            ]
          },
          "metadata": {}
        },
        {
          "output_type": "display_data",
          "data": {
            "application/vnd.jupyter.widget-view+json": {
              "model_id": "80b3af5b831a489c8fdeec0392aa31cf",
              "version_minor": 0,
              "version_major": 2
            },
            "text/plain": [
              "Downloading:   0%|          | 0.00/48.0 [00:00<?, ?B/s]"
            ]
          },
          "metadata": {}
        },
        {
          "output_type": "display_data",
          "data": {
            "application/vnd.jupyter.widget-view+json": {
              "model_id": "89b132d9424d451b82bdc71ef0fed588",
              "version_minor": 0,
              "version_major": 2
            },
            "text/plain": [
              "Downloading:   0%|          | 0.00/232k [00:00<?, ?B/s]"
            ]
          },
          "metadata": {}
        },
        {
          "output_type": "display_data",
          "data": {
            "application/vnd.jupyter.widget-view+json": {
              "model_id": "66a593f585bd44508695c01c8b5d7127",
              "version_minor": 0,
              "version_major": 2
            },
            "text/plain": [
              "Downloading:   0%|          | 0.00/112 [00:00<?, ?B/s]"
            ]
          },
          "metadata": {}
        }
      ]
    },
    {
      "cell_type": "code",
      "metadata": {
        "id": "N3D8QyFN5Hcy"
      },
      "source": [
        "sentence = 'Who are you voting for in 2020?'\n",
        "labels = ['business', 'art & culture', 'politics']"
      ],
      "execution_count": null,
      "outputs": []
    },
    {
      "cell_type": "code",
      "metadata": {
        "colab": {
          "base_uri": "https://localhost:8080/"
        },
        "id": "kc1H0L955OxZ",
        "outputId": "d5093d3c-2c7c-4d32-9689-092b556e4281"
      },
      "source": [
        "print(f\"{sentence}\\n\")\n",
        "for label_sentence in labels:\n",
        "  # run through model pre-trained on MNLI matching sentense with first label neighbors sentence\n",
        "  x = tokenizer.encode(sentence, label_sentence, return_tensors='pt',\n",
        "                       truncation=True)\n",
        "  logits = model(x)[0]\n",
        "\n",
        "  # we throw away \"neutral\" (dim 1) and take the probability of\n",
        "  # \"entailment\" (2) as the probability of the label being true \n",
        "  entail_contradiction_logits = logits[:,[0,2]]\n",
        "  probs = entail_contradiction_logits.softmax(dim=1)\n",
        "  prob_label_is_true = probs[:,1]\n",
        "  print(prob_label_is_true.item(), label_sentence)"
      ],
      "execution_count": null,
      "outputs": [
        {
          "output_type": "stream",
          "name": "stdout",
          "text": [
            "Who are you voting for in 2020?\n",
            "\n",
            "0.09194833785295486 business\n",
            "0.8147940635681152 art & culture\n",
            "0.8844189643859863 politics\n"
          ]
        }
      ]
    },
    {
      "cell_type": "markdown",
      "metadata": {
        "id": "WAxYsjvEM346"
      },
      "source": [
        "# Test with BERT MNLI Sequence Classification (BART-LARGE-MNLI) with 'bert-base-uncased' standard Tokenizer"
      ]
    },
    {
      "cell_type": "code",
      "metadata": {
        "id": "d4TVCkPi5TVl"
      },
      "source": [
        "tokenizer = AutoTokenizer.from_pretrained('bert-base-uncased')\n",
        "# model = AutoModelForSequenceClassification.from_pretrained('ishan/distilbert-base-uncased-mnli')\n",
        "# model = AutoModelForSequenceClassification.from_pretrained('textattack/distilbert-base-uncased-MNLI')\n",
        "model = AutoModelForSequenceClassification.from_pretrained('facebook/bart-large-mnli')"
      ],
      "execution_count": null,
      "outputs": []
    },
    {
      "cell_type": "code",
      "metadata": {
        "id": "YxjQGND8ONgQ"
      },
      "source": [
        "sentence = 'Who are you voting for in 2020?'\n",
        "labels = ['business', 'art & culture', 'politics']"
      ],
      "execution_count": null,
      "outputs": []
    },
    {
      "cell_type": "code",
      "metadata": {
        "id": "IkrEyVkuNsjH",
        "colab": {
          "base_uri": "https://localhost:8080/",
          "height": 426
        },
        "outputId": "4abb0885-d60c-4e16-fbbf-6800030fb56a"
      },
      "source": [
        "print(f\"{sentence}\\n\")\n",
        "for label_sentence in labels:\n",
        "  # run through model pre-trained on MNLI matching sentense with first label neighbors sentence\n",
        "  x = tokenizer.encode(sentence, label_sentence, return_tensors='pt',\n",
        "                       truncation=True)\n",
        "  logits = model(x)[0]\n",
        "\n",
        "  # we throw away \"neutral\" (dim 1) and take the probability of\n",
        "  # \"entailment\" (2) as the probability of the label being true \n",
        "  entail_contradiction_logits = logits[:,[0,2]]\n",
        "  probs = entail_contradiction_logits.softmax(dim=1)\n",
        "  prob_label_is_true = probs[:,1]\n",
        "  print(prob_label_is_true.item(), label_sentence)"
      ],
      "execution_count": null,
      "outputs": [
        {
          "output_type": "stream",
          "name": "stdout",
          "text": [
            "Who are you voting for in 2020?\n",
            "\n"
          ]
        },
        {
          "output_type": "error",
          "ename": "IndexError",
          "evalue": "ignored",
          "traceback": [
            "\u001b[0;31m---------------------------------------------------------------------------\u001b[0m",
            "\u001b[0;31mIndexError\u001b[0m                                Traceback (most recent call last)",
            "\u001b[0;32m<ipython-input-41-98b846c1e8b3>\u001b[0m in \u001b[0;36m<module>\u001b[0;34m()\u001b[0m\n\u001b[1;32m      4\u001b[0m   x = tokenizer.encode(sentence, label_sentence, return_tensors='pt',\n\u001b[1;32m      5\u001b[0m                        truncation=True)\n\u001b[0;32m----> 6\u001b[0;31m   \u001b[0mlogits\u001b[0m \u001b[0;34m=\u001b[0m \u001b[0mmodel\u001b[0m\u001b[0;34m(\u001b[0m\u001b[0mx\u001b[0m\u001b[0;34m)\u001b[0m\u001b[0;34m[\u001b[0m\u001b[0;36m0\u001b[0m\u001b[0;34m]\u001b[0m\u001b[0;34m\u001b[0m\u001b[0;34m\u001b[0m\u001b[0m\n\u001b[0m\u001b[1;32m      7\u001b[0m \u001b[0;34m\u001b[0m\u001b[0m\n\u001b[1;32m      8\u001b[0m   \u001b[0;31m# we throw away \"neutral\" (dim 1) and take the probability of\u001b[0m\u001b[0;34m\u001b[0m\u001b[0;34m\u001b[0m\u001b[0;34m\u001b[0m\u001b[0m\n",
            "\u001b[0;32m/usr/local/lib/python3.7/dist-packages/torch/nn/modules/module.py\u001b[0m in \u001b[0;36m_call_impl\u001b[0;34m(self, *input, **kwargs)\u001b[0m\n\u001b[1;32m   1049\u001b[0m         if not (self._backward_hooks or self._forward_hooks or self._forward_pre_hooks or _global_backward_hooks\n\u001b[1;32m   1050\u001b[0m                 or _global_forward_hooks or _global_forward_pre_hooks):\n\u001b[0;32m-> 1051\u001b[0;31m             \u001b[0;32mreturn\u001b[0m \u001b[0mforward_call\u001b[0m\u001b[0;34m(\u001b[0m\u001b[0;34m*\u001b[0m\u001b[0minput\u001b[0m\u001b[0;34m,\u001b[0m \u001b[0;34m**\u001b[0m\u001b[0mkwargs\u001b[0m\u001b[0;34m)\u001b[0m\u001b[0;34m\u001b[0m\u001b[0;34m\u001b[0m\u001b[0m\n\u001b[0m\u001b[1;32m   1052\u001b[0m         \u001b[0;31m# Do not call functions when jit is used\u001b[0m\u001b[0;34m\u001b[0m\u001b[0;34m\u001b[0m\u001b[0;34m\u001b[0m\u001b[0m\n\u001b[1;32m   1053\u001b[0m         \u001b[0mfull_backward_hooks\u001b[0m\u001b[0;34m,\u001b[0m \u001b[0mnon_full_backward_hooks\u001b[0m \u001b[0;34m=\u001b[0m \u001b[0;34m[\u001b[0m\u001b[0;34m]\u001b[0m\u001b[0;34m,\u001b[0m \u001b[0;34m[\u001b[0m\u001b[0;34m]\u001b[0m\u001b[0;34m\u001b[0m\u001b[0;34m\u001b[0m\u001b[0m\n",
            "\u001b[0;32m/usr/local/lib/python3.7/dist-packages/transformers/models/bart/modeling_bart.py\u001b[0m in \u001b[0;36mforward\u001b[0;34m(self, input_ids, attention_mask, decoder_input_ids, decoder_attention_mask, head_mask, decoder_head_mask, cross_attn_head_mask, encoder_outputs, inputs_embeds, decoder_inputs_embeds, labels, use_cache, output_attentions, output_hidden_states, return_dict)\u001b[0m\n\u001b[1;32m   1455\u001b[0m             \u001b[0;32mraise\u001b[0m \u001b[0mValueError\u001b[0m\u001b[0;34m(\u001b[0m\u001b[0;34m\"All examples must have the same number of <eos> tokens.\"\u001b[0m\u001b[0;34m)\u001b[0m\u001b[0;34m\u001b[0m\u001b[0;34m\u001b[0m\u001b[0m\n\u001b[1;32m   1456\u001b[0m         sentence_representation = hidden_states[eos_mask, :].view(hidden_states.size(0), -1, hidden_states.size(-1))[\n\u001b[0;32m-> 1457\u001b[0;31m             \u001b[0;34m:\u001b[0m\u001b[0;34m,\u001b[0m \u001b[0;34m-\u001b[0m\u001b[0;36m1\u001b[0m\u001b[0;34m,\u001b[0m \u001b[0;34m:\u001b[0m\u001b[0;34m\u001b[0m\u001b[0;34m\u001b[0m\u001b[0m\n\u001b[0m\u001b[1;32m   1458\u001b[0m         ]\n\u001b[1;32m   1459\u001b[0m         \u001b[0mlogits\u001b[0m \u001b[0;34m=\u001b[0m \u001b[0mself\u001b[0m\u001b[0;34m.\u001b[0m\u001b[0mclassification_head\u001b[0m\u001b[0;34m(\u001b[0m\u001b[0msentence_representation\u001b[0m\u001b[0;34m)\u001b[0m\u001b[0;34m\u001b[0m\u001b[0;34m\u001b[0m\u001b[0m\n",
            "\u001b[0;31mIndexError\u001b[0m: index -1 is out of bounds for dimension 1 with size 0"
          ]
        }
      ]
    },
    {
      "cell_type": "code",
      "metadata": {
        "id": "dPV8AgjDOCY0"
      },
      "source": [
        ""
      ],
      "execution_count": null,
      "outputs": []
    }
  ]
}